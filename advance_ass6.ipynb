{
 "cells": [
  {
   "cell_type": "markdown",
   "id": "16492565-d8f5-45d4-a954-61b2bd4f070b",
   "metadata": {},
   "source": [
    "Q1. Describe three applications for exception processing.\n",
    "\n"
   ]
  },
  {
   "cell_type": "raw",
   "id": "1d072e70-5dff-41fb-add2-cc6ac4708fc7",
   "metadata": {},
   "source": [
    "def div(a,b):   \n",
    "    try: \n",
    "        # code executes here        \n",
    "        c = a/b  \n",
    "        print(\"a/b = \",c)    \n",
    "        # Using exception object with the except statement  \n",
    "    except Exception as e:    \n",
    "        print(e)  \n",
    "        return \"can't divide by zero\"\n",
    "    else:    \n",
    "        return \"This is else block and executed when code in try excetues without any exception\"\n",
    "        \n",
    "a = int(input(\"Enter a:\"))    \n",
    "b = int(input(\"Enter b:\"))           \n",
    "print(div(a,b))"
   ]
  },
  {
   "cell_type": "code",
   "execution_count": null,
   "id": "75d2e64a-b829-45c2-b8ae-45948ba00731",
   "metadata": {},
   "outputs": [],
   "source": [
    "Exceptions are raised when the program is syntactically correct,but code resulted in an error .This error does not \n",
    "stop the execution of the program, however, it changes the normal flow of the program."
   ]
  },
  {
   "cell_type": "code",
   "execution_count": null,
   "id": "a95b0cf7-7da8-45b8-b5d4-ebc9f1da2b37",
   "metadata": {},
   "outputs": [],
   "source": [
    "def div(a,b):\n",
    "    try:\n",
    "        c=a/b\n",
    "        print(\"a/b= \",c)\n",
    "    except Exception as e:\n",
    "        print(e)\n",
    "        return \"can't divide by zero\"\n",
    "    else:\n",
    "        return \"This is else block and executed when code in try excetues without any exception\"\n",
    "a=int(input(\"Enter a:\"))\n",
    "b="
   ]
  },
  {
   "cell_type": "code",
   "execution_count": null,
   "id": "97277f66-0c5f-4695-a867-64713b458720",
   "metadata": {},
   "outputs": [],
   "source": [
    "try:\n",
    "    f=open(\"sample.txt\",\"r\")\n",
    "except Exception as e:\n",
    "    print(e)\n",
    "else:\n",
    "    print(\"File opened successfully\")\n",
    "    f.close()\n",
    "print(\"program is not interrupted\")\n",
    "\n",
    "# If we dont use try except else blocks, normal execution of program will be interrupted.\n",
    "\n",
    "# with try except, exception is caught when file is not found but program continues execution"
   ]
  },
  {
   "cell_type": "code",
   "execution_count": null,
   "id": "cf7d658e-615e-4049-8e09-5b759946e39a",
   "metadata": {},
   "outputs": [],
   "source": [
    "try:\n",
    "    raise NameError(\"Rohit\")\n",
    "except NameError as e:\n",
    "    print(\"Exception!!\")"
   ]
  },
  {
   "cell_type": "markdown",
   "id": "4537c573-1820-4db4-8aa6-1b684c1a9b77",
   "metadata": {},
   "source": [
    "Q2. What happens if you don&#39;t do something extra to treat an exception?\n",
    "\n"
   ]
  },
  {
   "cell_type": "raw",
   "id": "f3e41f80-5386-4f88-a915-329dd27ebeb1",
   "metadata": {},
   "source": [
    "Whenever an exeption occurs, the program stops the execution, and thus the further code is not executed. Therefore,\n",
    "an exception is the run-time errors that are unable to handle to Python script.An exception is a Python object that \n",
    "represents an error"
   ]
  },
  {
   "cell_type": "markdown",
   "id": "448ab923-c688-4d6e-adb0-2c37354685ad",
   "metadata": {},
   "source": [
    "Q3. What are your options for recovering from an exception in your script?\n",
    "\n"
   ]
  },
  {
   "cell_type": "code",
   "execution_count": null,
   "id": "abd60440-6f71-480d-ae67-eb0ff682ea2d",
   "metadata": {},
   "outputs": [],
   "source": [
    "In except block, we write a code to handle exception and next set of actions.\n"
   ]
  },
  {
   "cell_type": "code",
   "execution_count": 1,
   "id": "2e76f69b-893c-4081-83de-124b1317dfad",
   "metadata": {},
   "outputs": [
    {
     "name": "stdin",
     "output_type": "stream",
     "text": [
      "Enter an integer value:: ds\n"
     ]
    },
    {
     "name": "stdout",
     "output_type": "stream",
     "text": [
      "invalid literal for int() with base 10: 'ds'\n",
      "please enter a integer value \n",
      "YYaaaaa i always executes!!\n"
     ]
    },
    {
     "name": "stdin",
     "output_type": "stream",
     "text": [
      "Enter an integer value:: 1\n"
     ]
    },
    {
     "name": "stdout",
     "output_type": "stream",
     "text": [
      "Yes you have entered an integer 1\n",
      "YYaaaaa i always executes!!\n"
     ]
    }
   ],
   "source": [
    "def askint():\n",
    "    while True:\n",
    "        try:\n",
    "            a=int(input(\"Enter an integer value::\"))\n",
    "        except Exception as e:\n",
    "            print(e)\n",
    "            print(\"please enter a integer value \")\n",
    "            continue\n",
    "        else:\n",
    "            print(f\"Yes you have entered an integer {a}\")\n",
    "            break\n",
    "        finally:\n",
    "            print(\"YYaaaaa i always executes!!\")\n",
    "askint()"
   ]
  },
  {
   "cell_type": "markdown",
   "id": "57f8a6cd-1b66-44d9-9678-368d9f1d301d",
   "metadata": {},
   "source": [
    "Q4. Describe two methods for triggering exceptions in your script.\n",
    "\n"
   ]
  },
  {
   "cell_type": "code",
   "execution_count": null,
   "id": "5d2a6b8d-d1b0-495d-a9b7-7b08ef7f98f2",
   "metadata": {},
   "outputs": [],
   "source": [
    "Try statement- This method throws the exceptions when the code within try is executed.\n",
    "\n",
    "Raise-Triggers an exception manually using custom exceptions.\n",
    "\n",
    "Example are already explained above."
   ]
  },
  {
   "cell_type": "markdown",
   "id": "f7ad6c89-0691-4ec7-b06c-d33151199f3a",
   "metadata": {},
   "source": [
    "Q5. Identify two methods for specifying actions to be executed at termination time, regardless of\n",
    "whether or not an exception exists."
   ]
  },
  {
   "cell_type": "code",
   "execution_count": null,
   "id": "fc03260d-73c0-427b-8908-0f87b30cc79c",
   "metadata": {},
   "outputs": [],
   "source": [
    "In else block, code is written to handle if no exception is raised by code in try block.\n",
    "\n",
    "In finally block, code executes regardless of whether or not an exception exists."
   ]
  }
 ],
 "metadata": {
  "kernelspec": {
   "display_name": "Python 3 (ipykernel)",
   "language": "python",
   "name": "python3"
  },
  "language_info": {
   "codemirror_mode": {
    "name": "ipython",
    "version": 3
   },
   "file_extension": ".py",
   "mimetype": "text/x-python",
   "name": "python",
   "nbconvert_exporter": "python",
   "pygments_lexer": "ipython3",
   "version": "3.9.12"
  }
 },
 "nbformat": 4,
 "nbformat_minor": 5
}
