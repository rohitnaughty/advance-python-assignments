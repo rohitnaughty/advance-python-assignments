{
 "cells": [
  {
   "cell_type": "markdown",
   "id": "9fb71d97-771e-4642-b19b-2eff3328324c",
   "metadata": {},
   "source": [
    "Q1. What are the benefits of the built-in array package, if any?\n",
    "\n"
   ]
  },
  {
   "cell_type": "raw",
   "id": "35a00037-8ae6-44a3-8744-29b1339449f0",
   "metadata": {},
   "source": [
    "Arrays represent multiple data items of the same type using a single name. In arrays, the elements can be accessed randomly by using the index number. Arrays allocate memory in contiguous memory locations for all its elements. Hence there is no chance of extra memory being allocated in case of arrays. This avoids memory overflow or shortage of memory in arrays."
   ]
  },
  {
   "cell_type": "code",
   "execution_count": null,
   "id": "897aeaca-57df-481e-a91b-a597709a37df",
   "metadata": {},
   "outputs": [],
   "source": []
  },
  {
   "cell_type": "markdown",
   "id": "12b08abc-d1e0-4aef-b231-e707ac2f0b06",
   "metadata": {},
   "source": [
    "Q2. What are some of the array package's limitations?\n"
   ]
  },
  {
   "cell_type": "raw",
   "id": "f4c82324-f56f-4077-a44e-fdf9ebabae3b",
   "metadata": {},
   "source": [
    " The number of elements to be stored in an array should be known in advance. An array is a static structure (which means the array is of fixed size). Once declared the size of the array cannot be modified. The memory which is allocated to it cannot be increased or decreased.\n",
    "\n",
    "Insertion and deletion are quite difficult in an array as the elements are stored in consecutive memory locations and the shifting operation is costly.\n",
    "\n",
    "Allocating more memory than the requirement leads to wastage of memory space and less allocation of memory also leads to a problem"
   ]
  },
  {
   "cell_type": "code",
   "execution_count": null,
   "id": "661d7acb-021f-4013-90de-6dd3560ada52",
   "metadata": {},
   "outputs": [],
   "source": []
  },
  {
   "cell_type": "markdown",
   "id": "25e1ae16-e4ab-4079-92f1-a9c5fec2684c",
   "metadata": {},
   "source": [
    "\n",
    "Q3. Describe the main differences between the array and numpy packages.\n",
    "\n"
   ]
  },
  {
   "cell_type": "code",
   "execution_count": null,
   "id": "19fb9ffa-3e9b-4f37-b809-bac40a0b4159",
   "metadata": {},
   "outputs": [],
   "source": [
    " The array package doesn't provide any help with numerical calculation with the items insdie it in number form while NumPy give you a wide variety of numerical operations.\n",
    "\n",
    "An array is a single dimensional entity which hold the numerical data, while numpy can have more than 1 dimension.\n",
    "\n",
    "In case of array, item can be accessed by its index position and it is easy task while in numpy item is accessed by its column and row index, which makes it slightly time taking. Same goes with appending operation.\n",
    "\n",
    "In case of array we do not form a tabular structure, while in numpy it forms a tabular structure"
   ]
  },
  {
   "cell_type": "code",
   "execution_count": null,
   "id": "4d494fb6-2714-4402-8dec-b66a8e34d3fd",
   "metadata": {},
   "outputs": [],
   "source": []
  },
  {
   "cell_type": "markdown",
   "id": "d4579e3f-d1d0-43a2-be5e-6544a0cbb46e",
   "metadata": {},
   "source": [
    "Q4. Explain the distinctions between the empty, ones, and zeros functions.\n",
    "\n"
   ]
  },
  {
   "cell_type": "code",
   "execution_count": null,
   "id": "07d18c55-369f-4304-8c63-4a972afa7f8c",
   "metadata": {},
   "outputs": [],
   "source": [
    " The distinctions between the empty, ones, and zero functions are as follows :\n",
    "\n",
    "Empty function: An empty function is a function that does not contain any statement within its body. If you try to write a function definition without any statement in python ,it will return an error. To avoid this, we use pass statement. pass is a special statement in Python that does nothing. It only works as a dummy statement.\n",
    "Ones: This function returns a new array of given shape and data type, where the element’s value is 1.\n",
    "Zeros: This function returns a new array of given shape and data type, where the element’s value is 0."
   ]
  },
  {
   "cell_type": "code",
   "execution_count": null,
   "id": "eddc40b5-99a8-40a3-a381-2addf778e60a",
   "metadata": {},
   "outputs": [],
   "source": []
  },
  {
   "cell_type": "markdown",
   "id": "73ff2d7c-cfe5-4307-8366-c5fbb75c8847",
   "metadata": {},
   "source": [
    "Q5. In the fromfunction function, which is used to construct new arrays, what is the role of the callable\n",
    "argument?\n",
    "\n"
   ]
  },
  {
   "cell_type": "code",
   "execution_count": null,
   "id": "e383be63-663f-490d-9391-7d4e57489d81",
   "metadata": {},
   "outputs": [],
   "source": [
    " Its function is to execute the function over each coordinate and the resulting array. The function is called with N parameters, where N is the rank of shape. Each parameter represents the coordinates of the array varying along a specific axis."
   ]
  },
  {
   "cell_type": "code",
   "execution_count": null,
   "id": "7b8792ea-b759-450a-8f69-dbe17b8f8b56",
   "metadata": {},
   "outputs": [],
   "source": []
  },
  {
   "cell_type": "markdown",
   "id": "a1d66156-b84c-43c9-9349-286adbd5240d",
   "metadata": {},
   "source": [
    "Q6. What happens when a numpy array is combined with a single-value operand (a scalar, such as\n",
    "an int or a floating-point value) through addition, as in the expression A + n?\n",
    "\n"
   ]
  },
  {
   "cell_type": "code",
   "execution_count": null,
   "id": "955c325b-949e-4f01-82e3-548c57ed4204",
   "metadata": {},
   "outputs": [],
   "source": [
    ": If any scaler value such as integer is added to the numpy array then all the elements inside the array will add that value in it."
   ]
  },
  {
   "cell_type": "code",
   "execution_count": null,
   "id": "33b67f4c-d25b-46da-806b-6583c7118469",
   "metadata": {},
   "outputs": [],
   "source": []
  },
  {
   "cell_type": "markdown",
   "id": "74534d27-578d-43b4-a750-0fa22ed77b55",
   "metadata": {},
   "source": [
    "Q7. Can array-to-scalar operations use combined operation-assign operators (such as += or *=)?\n",
    "What is the outcome?\n",
    "\n"
   ]
  },
  {
   "cell_type": "code",
   "execution_count": null,
   "id": "9da8cc7c-287b-45ff-b42d-feca07cd7edb",
   "metadata": {},
   "outputs": [],
   "source": [
    " It will carry out provided operation on all elements of array."
   ]
  },
  {
   "cell_type": "code",
   "execution_count": null,
   "id": "7c53f3ce-7e9c-4135-a28a-95356acfc4e5",
   "metadata": {},
   "outputs": [],
   "source": []
  },
  {
   "cell_type": "markdown",
   "id": "c2b505ce-b08c-4193-806e-5c28a3c8ec79",
   "metadata": {},
   "source": [
    "Q8. Does a numpy array contain fixed-length strings? What happens if you allocate a longer string to\n",
    "one of these arrays?\n",
    "\n"
   ]
  },
  {
   "cell_type": "code",
   "execution_count": null,
   "id": "23682c48-d237-488c-b3b5-7036c89ec16a",
   "metadata": {},
   "outputs": [],
   "source": [
    " Yes, it is possible that we can include a string of fixed length in numpy array. The dtype of any numpy array containing string values is the maximum length of any string present in the array.Once set, it will only be able to store new string having length not more than the maximum length at the time of the creation. If we try to reassign some another string value having length greater than the maximum length of the existing elements, it simply discards all the values beyond the maximum length accept upto those values which are under the limit."
   ]
  },
  {
   "cell_type": "code",
   "execution_count": null,
   "id": "54c746a2-53e6-4020-9968-b938fc62ee88",
   "metadata": {},
   "outputs": [],
   "source": []
  },
  {
   "cell_type": "markdown",
   "id": "d661e756-7f87-425e-81dc-a236f0f6ec9a",
   "metadata": {},
   "source": [
    "Q9. What happens when you combine two numpy arrays using an operation like addition (+) or\n",
    "multiplication (*)? What are the conditions for combining two numpy arrays?\n",
    "\n"
   ]
  },
  {
   "cell_type": "code",
   "execution_count": null,
   "id": "c79429ef-bace-412e-b750-59acc5335cef",
   "metadata": {},
   "outputs": [],
   "source": [
    " It will simply add or multiply element to element at same position."
   ]
  },
  {
   "cell_type": "code",
   "execution_count": null,
   "id": "3dea0a98-9569-4922-821f-80611fcf4c6f",
   "metadata": {},
   "outputs": [],
   "source": []
  },
  {
   "cell_type": "markdown",
   "id": "2dae1c9e-d94c-45d0-9d1e-346c2c6d6a89",
   "metadata": {},
   "source": [
    "Q10. What is the best way to use a Boolean array to mask another array?\n",
    "\n"
   ]
  },
  {
   "cell_type": "code",
   "execution_count": null,
   "id": "05971824-ac48-403d-9c7f-d770369d63fd",
   "metadata": {},
   "outputs": [],
   "source": [
    " The best way to use a Boolean array to mask another array is by Using masked_where of numpy package"
   ]
  },
  {
   "cell_type": "code",
   "execution_count": null,
   "id": "bef1ecfc-0d9c-4a1a-903e-e8831c7b996b",
   "metadata": {},
   "outputs": [],
   "source": []
  },
  {
   "cell_type": "markdown",
   "id": "9157c95d-a88d-425d-aef3-6ad4dca4b147",
   "metadata": {},
   "source": [
    "Q11. What are three different ways to get the standard deviation of a wide collection of data using\n",
    "both standard Python and its packages? Sort the three of them by how quickly they execute.\n",
    "\n"
   ]
  },
  {
   "cell_type": "code",
   "execution_count": null,
   "id": "cc2671c9-d451-4cea-8e0e-5450e12ab5a4",
   "metadata": {},
   "outputs": [],
   "source": [
    "np.std and math package can be used individually."
   ]
  },
  {
   "cell_type": "code",
   "execution_count": null,
   "id": "1acd53bb-f18d-4e83-a4dd-5e976028c138",
   "metadata": {},
   "outputs": [],
   "source": []
  },
  {
   "cell_type": "markdown",
   "id": "f6eab1ba-b35f-485b-b2d7-975af4195016",
   "metadata": {},
   "source": [
    "Q12. What is the dimensionality of a Boolean mask-generated array?"
   ]
  },
  {
   "cell_type": "code",
   "execution_count": null,
   "id": "33ec0edf-7220-4267-8ff5-60d525fdac05",
   "metadata": {},
   "outputs": [],
   "source": [
    " It will have same dimensionality as input array."
   ]
  },
  {
   "cell_type": "code",
   "execution_count": null,
   "id": "9f93696c-3e44-4847-9439-1f5862ba3cbf",
   "metadata": {},
   "outputs": [],
   "source": []
  }
 ],
 "metadata": {
  "kernelspec": {
   "display_name": "Python 3 (ipykernel)",
   "language": "python",
   "name": "python3"
  },
  "language_info": {
   "codemirror_mode": {
    "name": "ipython",
    "version": 3
   },
   "file_extension": ".py",
   "mimetype": "text/x-python",
   "name": "python",
   "nbconvert_exporter": "python",
   "pygments_lexer": "ipython3",
   "version": "3.9.12"
  }
 },
 "nbformat": 4,
 "nbformat_minor": 5
}
