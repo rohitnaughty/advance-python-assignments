{
 "cells": [
  {
   "cell_type": "markdown",
   "id": "a0ac0273-4ef6-47d6-8bca-dd2b590effb8",
   "metadata": {},
   "source": [
    "Q1. Can you create a programme or function that employs both positive and negative indexing? Is\n",
    "there any repercussion if you do so?\n",
    "\n"
   ]
  },
  {
   "cell_type": "markdown",
   "id": "eacd74ef-a2c0-4f64-8f5b-ee426cef9fbe",
   "metadata": {},
   "source": [
    "Python supports negative indexing of an iterable object.We can access the elements of a object from the end by indexes\n",
    "starting from -1,-2,-3...There is no repercurssion if we use either positive or negative indexing .\n"
   ]
  },
  {
   "cell_type": "code",
   "execution_count": 14,
   "id": "333dee92-767b-4afb-94c4-cb7e8eeeb60e",
   "metadata": {},
   "outputs": [
    {
     "name": "stdout",
     "output_type": "stream",
     "text": [
      "abcdefg\n",
      "e\n",
      "cdefg\n",
      "def\n",
      "[1, 2, 3, 4, 5, 6, 7]\n",
      "5\n",
      "[3, 4, 5, 6, 7]\n",
      "[4, 5, 6]\n"
     ]
    }
   ],
   "source": [
    "def indexing(data,typ):\n",
    "    if typ==\"positive\":\n",
    "        print(data[0:])\n",
    "        print(data[4])\n",
    "        print(data[2:len(data)])\n",
    "        print(data[3:len(data)-1])\n",
    "    if typ==\"negative\":\n",
    "        print(data[-2])\n",
    "        print(data[-1:0:-1])\n",
    "        print(data[-6:-2])\n",
    "        print(data[-3:-1])     \n",
    "    \n",
    "indexing(\"abcdefg\",'positive')\n",
    "indexing([1,2,3,4,5,6,7],'positive')    \n",
    "        "
   ]
  },
  {
   "cell_type": "markdown",
   "id": "2030c8b7-c2fc-4cdb-bb77-633298640e56",
   "metadata": {},
   "source": [
    "Q2. What is the most effective way of starting with 1,000 elements in a Python list? Assume that all\n",
    "elements should be set to the same value.\n",
    "\n"
   ]
  },
  {
   "cell_type": "code",
   "execution_count": 15,
   "id": "1b382406-c897-433a-9e71-c992635a120f",
   "metadata": {},
   "outputs": [
    {
     "name": "stdout",
     "output_type": "stream",
     "text": [
      "Length of the list is :: 1000\n",
      "[12, 12, 12, 12, 12, 12, 12, 12, 12, 12, 12, 12, 12, 12, 12, 12, 12, 12, 12, 12, 12, 12, 12, 12, 12, 12, 12, 12, 12, 12, 12, 12, 12, 12, 12, 12, 12, 12, 12, 12, 12, 12, 12, 12, 12, 12, 12, 12, 12, 12, 12, 12, 12, 12, 12, 12, 12, 12, 12, 12, 12, 12, 12, 12, 12, 12, 12, 12, 12, 12, 12, 12, 12, 12, 12, 12, 12, 12, 12, 12, 12, 12, 12, 12, 12, 12, 12, 12, 12, 12, 12, 12, 12, 12, 12, 12, 12, 12, 12, 12, 12, 12, 12, 12, 12, 12, 12, 12, 12, 12, 12, 12, 12, 12, 12, 12, 12, 12, 12, 12, 12, 12, 12, 12, 12, 12, 12, 12, 12, 12, 12, 12, 12, 12, 12, 12, 12, 12, 12, 12, 12, 12, 12, 12, 12, 12, 12, 12, 12, 12, 12, 12, 12, 12, 12, 12, 12, 12, 12, 12, 12, 12, 12, 12, 12, 12, 12, 12, 12, 12, 12, 12, 12, 12, 12, 12, 12, 12, 12, 12, 12, 12, 12, 12, 12, 12, 12, 12, 12, 12, 12, 12, 12, 12, 12, 12, 12, 12, 12, 12, 12, 12, 12, 12, 12, 12, 12, 12, 12, 12, 12, 12, 12, 12, 12, 12, 12, 12, 12, 12, 12, 12, 12, 12, 12, 12, 12, 12, 12, 12, 12, 12, 12, 12, 12, 12, 12, 12, 12, 12, 12, 12, 12, 12, 12, 12, 12, 12, 12, 12, 12, 12, 12, 12, 12, 12, 12, 12, 12, 12, 12, 12, 12, 12, 12, 12, 12, 12, 12, 12, 12, 12, 12, 12, 12, 12, 12, 12, 12, 12, 12, 12, 12, 12, 12, 12, 12, 12, 12, 12, 12, 12, 12, 12, 12, 12, 12, 12, 12, 12, 12, 12, 12, 12, 12, 12, 12, 12, 12, 12, 12, 12, 12, 12, 12, 12, 12, 12, 12, 12, 12, 12, 12, 12, 12, 12, 12, 12, 12, 12, 12, 12, 12, 12, 12, 12, 12, 12, 12, 12, 12, 12, 12, 12, 12, 12, 12, 12, 12, 12, 12, 12, 12, 12, 12, 12, 12, 12, 12, 12, 12, 12, 12, 12, 12, 12, 12, 12, 12, 12, 12, 12, 12, 12, 12, 12, 12, 12, 12, 12, 12, 12, 12, 12, 12, 12, 12, 12, 12, 12, 12, 12, 12, 12, 12, 12, 12, 12, 12, 12, 12, 12, 12, 12, 12, 12, 12, 12, 12, 12, 12, 12, 12, 12, 12, 12, 12, 12, 12, 12, 12, 12, 12, 12, 12, 12, 12, 12, 12, 12, 12, 12, 12, 12, 12, 12, 12, 12, 12, 12, 12, 12, 12, 12, 12, 12, 12, 12, 12, 12, 12, 12, 12, 12, 12, 12, 12, 12, 12, 12, 12, 12, 12, 12, 12, 12, 12, 12, 12, 12, 12, 12, 12, 12, 12, 12, 12, 12, 12, 12, 12, 12, 12, 12, 12, 12, 12, 12, 12, 12, 12, 12, 12, 12, 12, 12, 12, 12, 12, 12, 12, 12, 12, 12, 12, 12, 12, 12, 12, 12, 12, 12, 12, 12, 12, 12, 12, 12, 12, 12, 12, 12, 12, 12, 12, 12, 12, 12, 12, 12, 12, 12, 12, 12, 12, 12, 12, 12, 12, 12, 12, 12, 12, 12, 12, 12, 12, 12, 12, 12, 12, 12, 12, 12, 12, 12, 12, 12, 12, 12, 12, 12, 12, 12, 12, 12, 12, 12, 12, 12, 12, 12, 12, 12, 12, 12, 12, 12, 12, 12, 12, 12, 12, 12, 12, 12, 12, 12, 12, 12, 12, 12, 12, 12, 12, 12, 12, 12, 12, 12, 12, 12, 12, 12, 12, 12, 12, 12, 12, 12, 12, 12, 12, 12, 12, 12, 12, 12, 12, 12, 12, 12, 12, 12, 12, 12, 12, 12, 12, 12, 12, 12, 12, 12, 12, 12, 12, 12, 12, 12, 12, 12, 12, 12, 12, 12, 12, 12, 12, 12, 12, 12, 12, 12, 12, 12, 12, 12, 12, 12, 12, 12, 12, 12, 12, 12, 12, 12, 12, 12, 12, 12, 12, 12, 12, 12, 12, 12, 12, 12, 12, 12, 12, 12, 12, 12, 12, 12, 12, 12, 12, 12, 12, 12, 12, 12, 12, 12, 12, 12, 12, 12, 12, 12, 12, 12, 12, 12, 12, 12, 12, 12, 12, 12, 12, 12, 12, 12, 12, 12, 12, 12, 12, 12, 12, 12, 12, 12, 12, 12, 12, 12, 12, 12, 12, 12, 12, 12, 12, 12, 12, 12, 12, 12, 12, 12, 12, 12, 12, 12, 12, 12, 12, 12, 12, 12, 12, 12, 12, 12, 12, 12, 12, 12, 12, 12, 12, 12, 12, 12, 12, 12, 12, 12, 12, 12, 12, 12, 12, 12, 12, 12, 12, 12, 12, 12, 12, 12, 12, 12, 12, 12, 12, 12, 12, 12, 12, 12, 12, 12, 12, 12, 12, 12, 12, 12, 12, 12, 12, 12, 12, 12, 12, 12, 12, 12, 12, 12, 12, 12, 12, 12, 12, 12, 12, 12, 12, 12, 12, 12, 12, 12, 12, 12, 12, 12, 12, 12, 12, 12, 12, 12, 12, 12, 12, 12, 12, 12, 12, 12, 12, 12, 12, 12, 12, 12, 12, 12, 12, 12, 12, 12, 12, 12, 12, 12, 12, 12, 12, 12, 12, 12, 12, 12, 12, 12, 12, 12, 12, 12, 12, 12, 12, 12, 12, 12, 12, 12, 12, 12, 12, 12, 12, 12, 12, 12, 12, 12, 12, 12, 12, 12, 12, 12, 12, 12, 12, 12, 12, 12, 12, 12, 12, 12, 12, 12, 12, 12, 12, 12, 12, 12, 12, 12, 12, 12, 12, 12, 12, 12, 12, 12, 12, 12, 12, 12, 12, 12, 12, 12, 12, 12, 12, 12, 12, 12, 12, 12, 12, 12, 12, 12, 12, 12, 12, 12, 12, 12, 12, 12, 12, 12, 12, 12, 12, 12, 12, 12, 12, 12, 12, 12, 12, 12, 12, 12, 12, 12, 12, 12, 12, 12, 12, 12, 12, 12, 12, 12, 12, 12, 12, 12, 12, 12, 12, 12, 12, 12, 12, 12]\n"
     ]
    }
   ],
   "source": [
    "#We can use * operator for this.\n",
    "my_list=[12]*1000\n",
    "print(\"Length of the list is ::\",len(my_list))\n",
    "print(my_list)"
   ]
  },
  {
   "cell_type": "markdown",
   "id": "fd3ffccd-e1e2-4f9e-9425-b625f28bd3d2",
   "metadata": {},
   "source": [
    "Q3. How do you slice a list to get any other part while missing the rest? (For example, suppose you\n",
    "want to make a new list with the elements first, third, fifth, seventh, and so on.)\n",
    "\n"
   ]
  },
  {
   "cell_type": "code",
   "execution_count": 16,
   "id": "45295a45-ee4c-4c27-a355-212681aa7a3c",
   "metadata": {},
   "outputs": [
    {
     "name": "stdout",
     "output_type": "stream",
     "text": [
      "[2, 4, 6, 8, 10, 12]\n"
     ]
    }
   ],
   "source": [
    "#We use list slicing operations to achieve this.\n",
    "my_list=[1,2,3,4,5,6,7,8,9,10,11,12]\n",
    "new_list=my_list[1:len(my_list):2]\n",
    "print(new_list)"
   ]
  },
  {
   "cell_type": "markdown",
   "id": "af70f582-c230-43e9-a674-9f57831781df",
   "metadata": {},
   "source": [
    "Q4. Explain the distinctions between indexing and slicing.\n",
    "\n"
   ]
  },
  {
   "cell_type": "markdown",
   "id": "67e171f4-af0e-4838-8bfe-77c5e40d6bda",
   "metadata": {},
   "source": [
    "Indexing is the way of accessing a single element of the object by its index or position, Where as, slicing enables us \n",
    "to access the sub parts of object. Slicing can be done using indexes."
   ]
  },
  {
   "cell_type": "code",
   "execution_count": 17,
   "id": "978d3532-8122-4c01-a195-cfce11f0c6b0",
   "metadata": {},
   "outputs": [
    {
     "name": "stdout",
     "output_type": "stream",
     "text": [
      "[2, 4, 6, 8, 10, 12]\n",
      "6\n"
     ]
    }
   ],
   "source": [
    "my_list=[1,2,3,4,5,6,7,8,9,10,11,12]\n",
    "new_list = my_list[1:len(my_list):2] # this is list sclicing.\n",
    "\n",
    "print(new_list)\n",
    "\n",
    "print(new_list[2]) # this is list indexing"
   ]
  },
  {
   "cell_type": "markdown",
   "id": "6354615b-9cb3-48d0-b723-9c7cc58a4627",
   "metadata": {},
   "source": [
    "Q5. What happens if one of the slicing expression's indexes is out of range?\n",
    "\n"
   ]
  },
  {
   "cell_type": "markdown",
   "id": "f6fa1568-3b06-4510-8b97-340a57a60456",
   "metadata": {},
   "source": [
    "The slicing operation doesn't raise an error if one of the indices are out of range.This is in not in the case of \n",
    "indexing if you index an element that is out of bounds, Python will throw out of bounds error.However,with\n",
    "slicing it simply returns an existing accessed elements.It stops accessing elements after the end of the object is \n",
    "reached."
   ]
  },
  {
   "cell_type": "code",
   "execution_count": 18,
   "id": "fb6b7ea6-a281-4da4-9dfa-27a4743c91e5",
   "metadata": {},
   "outputs": [
    {
     "name": "stdout",
     "output_type": "stream",
     "text": [
      "[2, 4, 6, 8, 10, 12]\n"
     ]
    }
   ],
   "source": [
    "print(new_list[0:12])"
   ]
  },
  {
   "cell_type": "markdown",
   "id": "1998055c-3b62-422a-b347-483ccac2c5c9",
   "metadata": {},
   "source": [
    "Q6. If you pass a list to a function, and if you want the function to be able to change the values of the\n",
    "list—so that the list is different after the function returns—what action should you avoid?\n",
    "\n"
   ]
  },
  {
   "cell_type": "markdown",
   "id": "826adbcb-4f14-43a0-9bbe-1decd33d24e6",
   "metadata": {},
   "source": [
    "We should avoid passing the list as an argument in the function by value. If we do ,it will point to different\n",
    "memory location and will not be able alter the list."
   ]
  },
  {
   "cell_type": "code",
   "execution_count": 19,
   "id": "88e20e7b-0b26-4be6-976e-037bbc148531",
   "metadata": {},
   "outputs": [
    {
     "name": "stdout",
     "output_type": "stream",
     "text": [
      "Original list is [1, 2, 3, 4]\n",
      "Call by reference alters list to [1, 4, 9, 16]\n",
      "\n",
      " Original list is [1, 2, 3, 4]\n",
      "Before doing anything, list is:: [1, 2, 3, 4]\n",
      "After assigning new values, list is:: [100, 200, 300, 400, 500]\n",
      "After calling function, list is:: [1, 2, 3, 4]\n"
     ]
    }
   ],
   "source": [
    "def fun(l1):\n",
    "    for i in range(len(l1)):\n",
    "        l1[i] = l1[i]**2\n",
    "    return l1\n",
    "\n",
    "l  = [1,2,3,4]\n",
    "print(\"Original list is\",l)\n",
    "print(\"Call by reference alters list to\",fun(l))\n",
    "\n",
    "\n",
    "def fun1(l2):\n",
    "    print('Before doing anything, list is::',l2)\n",
    "    l2 = [100,200,300,400,500]\n",
    "    print(\"After assigning new values, list is::\",l2)\n",
    "\n",
    "l  = [1,2,3,4]\n",
    "print(\"\\n Original list is\",l)\n",
    "fun1(l)\n",
    "print(\"After calling function, list is::\",l)"
   ]
  },
  {
   "cell_type": "markdown",
   "id": "dce5d57c-27af-4750-b5d7-e9f67a551b13",
   "metadata": {},
   "source": [
    "Q7. What is the concept of an unbalanced matrix?\n",
    "\n"
   ]
  },
  {
   "cell_type": "raw",
   "id": "d6c01206-8340-4eaf-9a6d-5732c17fdf77",
   "metadata": {},
   "source": [
    "A matrix is balanced if all cells in the matrix are balanced and a cell of the matrix is balanced if the number of cells in that matrix that are adjacent to that cell is strictly greater than the value written in this cell. Adjacent cell means cells in the top, down, left, and right cell of each cell if it exists.\n",
    "\n",
    "import numpy as np\n",
    "\n",
    "mat = np.matrix([[1, 2, 3],[4, 5, 6],[7, 8, 9]])\n",
    "mat \n",
    "\n",
    "# This is unbalanced matrix"
   ]
  },
  {
   "cell_type": "markdown",
   "id": "2773b0e7-119e-4287-b74d-a2a28ea61883",
   "metadata": {},
   "source": [
    "A matrix is balanced if all cells in the matrix are balenced and a cell of the matrix is balanced if the number of \n",
    "cells in that matrix that are adjacent to that cell is strictly greater than the value written in this cell.Adjacent\n",
    "cell means cells in the top,down,left,and right cell of each cell if it exists.\n"
   ]
  },
  {
   "cell_type": "code",
   "execution_count": 20,
   "id": "fd6ab73d-ee01-4675-8607-55b7d832f558",
   "metadata": {},
   "outputs": [
    {
     "data": {
      "text/plain": [
       "matrix([[1, 2, 3],\n",
       "        [4, 5, 6],\n",
       "        [7, 8, 9]])"
      ]
     },
     "execution_count": 20,
     "metadata": {},
     "output_type": "execute_result"
    }
   ],
   "source": [
    "import numpy as np\n",
    "mat= np.matrix([[1,2,3],[4,5,6],[7,8,9]])\n",
    "mat\n",
    "#This is unbalenced matrix"
   ]
  },
  {
   "cell_type": "markdown",
   "id": "ac8a55a0-2917-4f70-95da-f4c6e0a8fe28",
   "metadata": {},
   "source": [
    "Q8. Why is it necessary to use either list comprehension or a loop to create arbitrarily large matrices?"
   ]
  },
  {
   "cell_type": "markdown",
   "id": "ceeeca1b-1cb8-44fd-ae17-26b02f2fb61c",
   "metadata": {},
   "source": [
    "In python 3,we can use numpy library to create large matrices instead of list comprehention or a loop"
   ]
  },
  {
   "cell_type": "code",
   "execution_count": null,
   "id": "8cee4435-694d-4aff-aa6f-a6a5c4ab1569",
   "metadata": {},
   "outputs": [],
   "source": []
  },
  {
   "cell_type": "code",
   "execution_count": null,
   "id": "1d7d6f7d-45ca-4612-b55f-500013bd8340",
   "metadata": {},
   "outputs": [],
   "source": []
  }
 ],
 "metadata": {
  "kernelspec": {
   "display_name": "Python 3 (ipykernel)",
   "language": "python",
   "name": "python3"
  },
  "language_info": {
   "codemirror_mode": {
    "name": "ipython",
    "version": 3
   },
   "file_extension": ".py",
   "mimetype": "text/x-python",
   "name": "python",
   "nbconvert_exporter": "python",
   "pygments_lexer": "ipython3",
   "version": "3.9.12"
  }
 },
 "nbformat": 4,
 "nbformat_minor": 5
}
