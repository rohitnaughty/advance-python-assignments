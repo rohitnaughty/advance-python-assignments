{
 "cells": [
  {
   "cell_type": "markdown",
   "id": "f1f601a9-2d2f-4374-9115-7e129d8a9703",
   "metadata": {},
   "source": [
    "Q1. What is the meaning of multiple inheritance?\n",
    "\n"
   ]
  },
  {
   "cell_type": "code",
   "execution_count": null,
   "id": "d12f2b17-ed8b-4edd-bd01-703eef2648f1",
   "metadata": {},
   "outputs": [],
   "source": [
    "When a class id derived from more than base class it is called  multiple Inheritance.The derived class inherits all \n",
    "the features of the base case."
   ]
  },
  {
   "cell_type": "markdown",
   "id": "02ced3db-0d1f-4272-8270-29e336f897c0",
   "metadata": {},
   "source": [
    "Q2. What is the concept of delegation?\n",
    "\n"
   ]
  },
  {
   "cell_type": "code",
   "execution_count": null,
   "id": "32c037cf-7625-4f89-9402-9350ab09c92f",
   "metadata": {},
   "outputs": [],
   "source": [
    "Delegation is an object oriented technique (also called a design pattern). Lets say you have an object x and want to \n",
    "change the behaviour of just one of its methods.You can create a new class thst provides a new implementation of the \n",
    "method you're interested in changing and delegates all other methods to the corresponding method of x.\n",
    "\n",
    "The delegation is accomplished via the getattr method: consult the language reference for more information about\n",
    "controlling attribute access."
   ]
  },
  {
   "cell_type": "markdown",
   "id": "219753dd-70ae-472d-8eb7-b25d1acf1c45",
   "metadata": {},
   "source": [
    "Q3. What is the concept of composition?\n",
    "\n"
   ]
  },
  {
   "cell_type": "code",
   "execution_count": null,
   "id": "77cc41ab-adf2-4007-851b-2d32c9619375",
   "metadata": {},
   "outputs": [],
   "source": [
    "It is one the fundamental concepts of oops. A class that reference to one or more objects of other classes as an instance\n",
    "variable . Here ,by using the class name or by creating the object we can access the members of one class inside another\n",
    "class .It enables creating complex types by combining objects of different classes.\n",
    "It means that a class Composite can contain an object  of another class Component.This type of relationship is known\n",
    "as Has_A Relation."
   ]
  },
  {
   "cell_type": "markdown",
   "id": "12ba0196-86a0-4e5d-84fd-410782442cb5",
   "metadata": {},
   "source": [
    "Q4. What are bound methods and how do we use them?\n",
    "\n"
   ]
  },
  {
   "cell_type": "code",
   "execution_count": null,
   "id": "ab66a96c-0da9-4509-9051-fb3284ec3d3f",
   "metadata": {},
   "outputs": [],
   "source": [
    "A bound method is the one which is dependent on the instance of the class as the first arguments.It passes the instance \n",
    "as the first argument which is used to access the variables and functions.All functions in the class are by default \n",
    "bound methods."
   ]
  },
  {
   "cell_type": "code",
   "execution_count": 1,
   "id": "e078f4a9-ba8f-4b9d-bbfd-a0d86479262e",
   "metadata": {},
   "outputs": [
    {
     "name": "stdout",
     "output_type": "stream",
     "text": [
      "<bound method Sample.fun of <__main__.Sample object at 0x7f0de067bdc0>>\n"
     ]
    }
   ],
   "source": [
    "class Sample:\n",
    "    def fun(self,some_value):\n",
    "        self.some_value=some_value\n",
    "s=Sample()\n",
    "print(s.fun)"
   ]
  },
  {
   "cell_type": "markdown",
   "id": "3d49c588-f15b-42ed-aced-291d04088326",
   "metadata": {},
   "source": [
    "Q5. What is the purpose of pseudoprivate attributes?"
   ]
  },
  {
   "cell_type": "code",
   "execution_count": null,
   "id": "67410f0c-ec36-4b0b-a7f5-0c79d8c81474",
   "metadata": {},
   "outputs": [],
   "source": [
    "In Python, there is no concept of \"private\" as such. When naming properties and methods at the level, some special processing is actually done to the name, making it inaccessible to the outside world.\n",
    "\n",
    "class Test:\n",
    "    def __init__(self, a, b, c, d):\n",
    "        self.__a = a # __ means pseudo private variable\n",
    "        self.b = b\n",
    "        self.c = c\n",
    "        self.d = d\n",
    "\n",
    "    def custom(self, v):\n",
    "        return v - self.__a\n",
    "\n",
    "t = Test(1,2,3,4)    \n",
    "print(t._Test__a) # this is the way to access Pseudo private  attribute\n",
    "print(t.b)\n",
    "print(t.custom(5))"
   ]
  },
  {
   "cell_type": "code",
   "execution_count": null,
   "id": "b7d42e30-4542-42a8-bc23-686714f18e94",
   "metadata": {},
   "outputs": [],
   "source": []
  }
 ],
 "metadata": {
  "kernelspec": {
   "display_name": "Python 3 (ipykernel)",
   "language": "python",
   "name": "python3"
  },
  "language_info": {
   "codemirror_mode": {
    "name": "ipython",
    "version": 3
   },
   "file_extension": ".py",
   "mimetype": "text/x-python",
   "name": "python",
   "nbconvert_exporter": "python",
   "pygments_lexer": "ipython3",
   "version": "3.9.12"
  }
 },
 "nbformat": 4,
 "nbformat_minor": 5
}
