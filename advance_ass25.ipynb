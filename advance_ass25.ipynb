{
 "cells": [
  {
   "cell_type": "markdown",
   "id": "19a949c4-1b6e-4b64-81da-6de48ea604f4",
   "metadata": {},
   "source": [
    "Q1. What is the distinction between a numpy array and a pandas data frame? Is there a way to\n",
    "convert between the two if there is?\n",
    "\n"
   ]
  },
  {
   "cell_type": "markdown",
   "id": "f5a617f9-bbab-452f-b449-f28071f69a19",
   "metadata": {},
   "source": [
    "Numpy Ndarray perovides a lot of coveninent and optimized method for performing several mathematical operations on vectors.\n",
    "\n",
    "Pandas Dataframe is an in-memory 2-dimentional tabular representation of data.In simpler words,it can be seen as a spreadsheet having \n",
    "rows and columns.\n",
    "\n",
    "conversion :Datadrame=pandas.DataFrame(array)"
   ]
  },
  {
   "cell_type": "markdown",
   "id": "323a3a9f-fcbc-485b-b04b-e1d555d3ee7b",
   "metadata": {},
   "source": [
    "Q2. What can go wrong when an user enters in a stock-ticker symbol, and how do you handle it?\n",
    "\n"
   ]
  },
  {
   "cell_type": "markdown",
   "id": "ff55a65f-153b-429d-a975-5e2504a1a7fb",
   "metadata": {},
   "source": [
    "Bar chart,Line Chart are used for plotting."
   ]
  },
  {
   "cell_type": "markdown",
   "id": "26a17096-f519-4b4e-8a80-303918ab0284",
   "metadata": {},
   "source": [
    "Q3. Identify some of the plotting techniques that are used to produce a stock-market chart.\n",
    "\n"
   ]
  },
  {
   "cell_type": "markdown",
   "id": "9dbf2a8e-1b40-4cf4-a805-db945cc2cff3",
   "metadata": {},
   "source": [
    "Legend will help comparision between different stocks,so will be essential on a stock  market chart"
   ]
  },
  {
   "cell_type": "markdown",
   "id": "878fa200-564e-468f-a2ae-d9f7238b353e",
   "metadata": {},
   "source": [
    "Q4. Why is it essential to print a legend on a stock market chart?\n",
    "\n"
   ]
  },
  {
   "cell_type": "markdown",
   "id": "0f41a0bb-36c5-4645-8ac9-b4961dd16528",
   "metadata": {},
   "source": [
    "We can start and end parameters for that.In start we write the date from where we are starting and at the end we write the end \n",
    "date.So within this span we can restrict the duration.Also we can use the parameters like periods for how much times we need the \n",
    "duration and we can also use the frequrncy parameter."
   ]
  },
  {
   "cell_type": "markdown",
   "id": "e385f490-6bc9-4a91-90ef-30ae7d685f6d",
   "metadata": {},
   "source": [
    "Q5. What is the best way to limit the length of a pandas data frame to less than a year?\n",
    "\n"
   ]
  },
  {
   "cell_type": "markdown",
   "id": "a96a970b-bb8b-4683-9791-55ec2f9bbcfe",
   "metadata": {},
   "source": [
    "The 180-day moving average is represented as a line on charts and represents the average price over the past 180 days.The moving \n",
    "average can give traders a sence regarding wheather the trend is up or down, while also identifing potential support or resistance \n",
    "areas."
   ]
  },
  {
   "cell_type": "markdown",
   "id": "c204a428-70ad-4fa3-b03f-0d2242b55bd9",
   "metadata": {},
   "source": [
    "Q6. What is the definition of a 180-day moving average?\n",
    "\n"
   ]
  },
  {
   "cell_type": "code",
   "execution_count": null,
   "id": "5c37757e-2ef2-4272-8d94-82f5e3bc0d0f",
   "metadata": {},
   "outputs": [],
   "source": [
    ": Moving Averages help to filter out market noise and smooth out fluctuations in price. In statistics, a moving\n",
    "#       average is a calculation used to analyze data points by creating a series of averages of different subsets of \n",
    "#       the full data set. 180-day moving average means A simple moving average (SMA) is a arithmetic mean of a given \n",
    "#       set of prices over the 180 days in the past"
   ]
  },
  {
   "cell_type": "markdown",
   "id": "090d9922-66cb-44eb-b1ed-8c5f16fdb51e",
   "metadata": {},
   "source": [
    "Q7. Did the chapter's final example use 'indirect' importing? If so, how exactly do you do it?"
   ]
  },
  {
   "cell_type": "code",
   "execution_count": null,
   "id": "21f23d37-be80-4c0d-84ae-766a56f59b3a",
   "metadata": {},
   "outputs": [],
   "source": []
  }
 ],
 "metadata": {
  "kernelspec": {
   "display_name": "Python 3 (ipykernel)",
   "language": "python",
   "name": "python3"
  },
  "language_info": {
   "codemirror_mode": {
    "name": "ipython",
    "version": 3
   },
   "file_extension": ".py",
   "mimetype": "text/x-python",
   "name": "python",
   "nbconvert_exporter": "python",
   "pygments_lexer": "ipython3",
   "version": "3.9.12"
  }
 },
 "nbformat": 4,
 "nbformat_minor": 5
}
