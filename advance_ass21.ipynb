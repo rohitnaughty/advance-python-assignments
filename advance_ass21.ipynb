{
 "cells": [
  {
   "cell_type": "markdown",
   "id": "bd7b45bd-1f3a-49ca-95dc-08891efacc67",
   "metadata": {},
   "source": [
    "Q1. What is a probability distribution, exactly? If the values are meant to be random, how can you\n",
    "predict them at all?\n",
    "\n"
   ]
  },
  {
   "cell_type": "markdown",
   "id": "f03ada37-b0cb-487e-b714-89771631ab45",
   "metadata": {},
   "source": [
    "A probability distribution describes how a random variable is distracted, it tells us values a random \n",
    "variable is most likely to take on and which values are less likely.Based on the previous data and the \n",
    "occurences of the random event, we can pridict the outcome in terms of probabilities."
   ]
  },
  {
   "cell_type": "markdown",
   "id": "361a74b3-b72d-4724-9a4d-a026a43d8701",
   "metadata": {},
   "source": [
    "Q2. Is there a distinction between true random numbers and pseudo-random numbers, if there is\n",
    "one? Why are the latter considered “good enough”?\n",
    "\n"
   ]
  },
  {
   "cell_type": "markdown",
   "id": "1e3b2721-4bae-4f5c-abe4-a349e9cd517d",
   "metadata": {},
   "source": [
    "The difference between between true random number (TRN) and pseudo-random number(PRN),is that TRN's are unpredictable\n",
    "physical values means (like atmostpheric noise),and PRN are generated using mathematical agorithms (completely computer\n",
    "generated).The PRN's are good enough as they follow a uniform distribution and the seed for generating PRN is unpredictable\n",
    "and unknown."
   ]
  },
  {
   "cell_type": "markdown",
   "id": "195e802f-3ae1-4ef5-b0d8-817673e355c3",
   "metadata": {},
   "source": [
    "Q3. What are the two main factors that influence the behaviour of a 'normal' probability distribution?\n",
    "\n"
   ]
  },
  {
   "cell_type": "markdown",
   "id": "440a9bc4-a754-4888-b21a-e7717d03aecb",
   "metadata": {},
   "source": [
    "A normal distribution is determined by two parameters the mean and the variance.A normal distribution with a\n",
    "mean of 0 and a standard deviation of 1 is called a standard normal distribution."
   ]
  },
  {
   "cell_type": "markdown",
   "id": "439dc210-fca5-402c-824a-1c16c650242d",
   "metadata": {},
   "source": [
    "Q4. Provide a real-life example of a normal distribution.\n",
    "\n"
   ]
  },
  {
   "cell_type": "markdown",
   "id": "bd3079ea-1536-4825-b938-33bc7727caff",
   "metadata": {},
   "source": [
    "A fair rolling of dice is also a good example of normal distribution."
   ]
  },
  {
   "cell_type": "markdown",
   "id": "95ec78b0-2735-43c7-ab93-181abdf079bd",
   "metadata": {},
   "source": [
    "Q5. In the short term, how can you expect a probability distribution to behave? What do you think will\n",
    "happen as the number of trials grows?\n",
    "\n"
   ]
  },
  {
   "cell_type": "markdown",
   "id": "8bb4c859-1680-4a0c-b1bc-5166dd85678c",
   "metadata": {},
   "source": [
    "When trials are less, the variance will large.As the number of trials increase,the variable will reduce."
   ]
  },
  {
   "cell_type": "markdown",
   "id": "e27a1522-b86a-4456-aaab-462a90d10fc4",
   "metadata": {},
   "source": [
    "Q6. What kind of object can be shuffled by using random.shuffle?\n",
    "\n"
   ]
  },
  {
   "cell_type": "markdown",
   "id": "49b2caff-f49e-4f68-a073-5d567f1fe9b8",
   "metadata": {},
   "source": [
    "random.shuffle can used to shuffle list object"
   ]
  },
  {
   "cell_type": "markdown",
   "id": "aa25511c-1ccd-4bbc-9ed6-9597f0e83286",
   "metadata": {},
   "source": [
    "Q7. Describe the math package's general categories of functions.\n",
    "\n"
   ]
  },
  {
   "cell_type": "markdown",
   "id": "156d11bb-11dd-46f6-80cd-1f4e24f8b69c",
   "metadata": {},
   "source": [
    "The general categories of math package are \n",
    "\n",
    "1)Trigonometric functions\n",
    "2)Quadratic fuctions\n",
    "3)Exponential functions\n",
    "4)Hyperbolic functions\n",
    "5)Periodic functions\n",
    "6)Arithmetic functions\n",
    "7)Logarithimic functions\n",
    "8)Conversions to Integer"
   ]
  },
  {
   "cell_type": "markdown",
   "id": "44292a97-6b84-4200-9f5c-a15a8f52eb79",
   "metadata": {},
   "source": [
    "Q8. What is the relationship between exponentiation and logarithms?\n",
    "\n"
   ]
  },
  {
   "cell_type": "markdown",
   "id": "cb0399a9-aef2-4841-9fae-8dcad808aa2b",
   "metadata": {},
   "source": [
    "The exponential function is given by f(x)=ex, whereas the logarithmic function is given by g(x) = ln x,and \n",
    "former is the inverse of the latter."
   ]
  },
  {
   "cell_type": "markdown",
   "id": "ccba9b7a-f441-421c-a3aa-24eeac3e8b26",
   "metadata": {},
   "source": [
    "Q9. What are the three logarithmic functions that Python supports?"
   ]
  },
  {
   "cell_type": "markdown",
   "id": "b6e5aa2f-72ed-4325-bfe9-58cc3c45fa3c",
   "metadata": {},
   "source": [
    "1)log2(x) -logarithmic value of x to base 2\n",
    "\n",
    "2)log(x,base) -logarithmic valueof x to base. if only first parameter is given, it computes its value tp base e,natural logarithm\n",
    "\n",
    "3)log10(x)-logarithmic value of x to base 10\n",
    "\n",
    "4)log1p(x) - natural logarithum (base e) value of 1+x"
   ]
  },
  {
   "cell_type": "code",
   "execution_count": null,
   "id": "223f04a1-d777-4d8c-b075-964455deaa0b",
   "metadata": {},
   "outputs": [],
   "source": []
  }
 ],
 "metadata": {
  "kernelspec": {
   "display_name": "Python 3 (ipykernel)",
   "language": "python",
   "name": "python3"
  },
  "language_info": {
   "codemirror_mode": {
    "name": "ipython",
    "version": 3
   },
   "file_extension": ".py",
   "mimetype": "text/x-python",
   "name": "python",
   "nbconvert_exporter": "python",
   "pygments_lexer": "ipython3",
   "version": "3.9.12"
  }
 },
 "nbformat": 4,
 "nbformat_minor": 5
}
