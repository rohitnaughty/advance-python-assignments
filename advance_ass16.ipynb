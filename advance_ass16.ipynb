{
 "cells": [
  {
   "cell_type": "markdown",
   "id": "99dafbae-fc4a-47b7-9e56-dd6633c08f4e",
   "metadata": {},
   "source": [
    "Q1. What is the benefit of regular expressions?\n",
    "\n"
   ]
  },
  {
   "cell_type": "markdown",
   "id": "b5b3ec59-7ca3-48bd-bca5-47266a80f626",
   "metadata": {},
   "source": [
    "Regular expression let us search the piece of text that matches the given pattern.The main benifit of using them is ,\n",
    "it saves lot of time and are very efficent to use."
   ]
  },
  {
   "cell_type": "markdown",
   "id": "6f9a949f-eef2-40cc-9ec4-4d99eecd6a9f",
   "metadata": {},
   "source": [
    "Q2. Describe the difference between the effects of '(ab)c+' and 'a(bc)+.'; Which of these, if any, is the\n",
    "unqualified pattern 'abc+'?\n",
    "\n"
   ]
  },
  {
   "cell_type": "markdown",
   "id": "888c7cac-5935-47ea-b874-3f7067e08d2d",
   "metadata": {},
   "source": [
    "Pattern (ab)c+ will search for at only one occurence of \"ab\" and one or more occurences of c.\n",
    "\n",
    "Pattern b(bc)+ will search for at only one occurence of \"a\" and one or more occurences of bc.\n",
    "\n",
    "Pattern (ab)c+ can be unqualified pattern \"abc+\"\n"
   ]
  },
  {
   "cell_type": "code",
   "execution_count": 1,
   "id": "53039a2b-dd4b-44d2-8082-16b09d58acda",
   "metadata": {},
   "outputs": [
    {
     "name": "stdout",
     "output_type": "stream",
     "text": [
      "abccccc\n",
      "abcbc\n"
     ]
    }
   ],
   "source": [
    "import re\n",
    "match1=re.search(r'(ab)c+',\"abccccc\")\n",
    "match2=re.search(r'a(bc)+',\"abcbc\")\n",
    "print(match1.group())\n",
    "print(match2.group())"
   ]
  },
  {
   "cell_type": "markdown",
   "id": "98bc2a4b-dfc2-4776-b666-341c57bc2aa3",
   "metadata": {},
   "source": [
    "Q3. How much do you need to use the following sentence while using regular expressions?\n"
   ]
  },
  {
   "cell_type": "code",
   "execution_count": 2,
   "id": "e960dce9-040e-4022-9cc0-15290e6427f3",
   "metadata": {},
   "outputs": [],
   "source": [
    "import re\n",
    "# We have to use it everytime we use functions of the module re. "
   ]
  },
  {
   "cell_type": "markdown",
   "id": "bd93e02a-1c9c-49ca-8ea0-445c3ff0cef0",
   "metadata": {},
   "source": [
    "\n",
    "Q4. Which characters have special significance in square brackets when expressing a range, and\n",
    "under what circumstances?\n"
   ]
  },
  {
   "cell_type": "markdown",
   "id": "af16ee0e-6285-4064-9861-5d92c8dffcd6",
   "metadata": {},
   "source": [
    "\\ (backslash): general escape character, is usd when you use character class metacharacters as literals inside a \n",
    "character class only.\n",
    "\n",
    "^(circumflex anchor): negate the class, if this is the first character in the brackets(If ^ is not the first , it is \n",
    "not a metacharacter.)"
   ]
  },
  {
   "cell_type": "markdown",
   "id": "5affe292-3626-46ea-9b57-68744c66bac6",
   "metadata": {},
   "source": [
    "\n",
    "Q5. How does compiling a regular-expression object benefit you?\n",
    "\n"
   ]
  },
  {
   "cell_type": "markdown",
   "id": "51c58324-cf58-41f0-98ab-384e129ae0be",
   "metadata": {},
   "source": [
    "It is faster compared to using pattern ad other re functions."
   ]
  },
  {
   "cell_type": "markdown",
   "id": "751af473-5d86-4db8-8435-3337e089e0b5",
   "metadata": {},
   "source": [
    "Q6. What are some examples of how to use the match object returned by re.match and re.search?\n",
    "\n"
   ]
  },
  {
   "cell_type": "markdown",
   "id": "ae4fd0df-1c3a-47c1-bee5-51fba00f627c",
   "metadata": {},
   "source": [
    "re.search() searches for the whole string even if the string contains multi lines and tries to find a match of the \n",
    "substring in all the line of string\n",
    "\n",
    "re.match() searches only from the beginning of the string and return match object if found.But if a match of substring \n",
    "is found somewhere in the middle of the string, it returns none.\n",
    "\n",
    "But, both search() and match() returns only the first occurance of pattern.\n"
   ]
  },
  {
   "cell_type": "code",
   "execution_count": 3,
   "id": "5a239e38-5a52-427e-8968-b54e33aebeeb",
   "metadata": {},
   "outputs": [
    {
     "name": "stdout",
     "output_type": "stream",
     "text": [
      "<re.Match object; span=(0, 7), match='Ineuron'>\n",
      "None\n"
     ]
    }
   ],
   "source": [
    "import re\n",
    "pattern =\"ineuron\"\n",
    "search=re.search(pattern,\"Ineuron is the best coaching ineuron!\",re.IGNORECASE)\n",
    "print(search)\n",
    "match=re.match(pattern,\"The best coaching class is Ineuron\",re.IGNORECASE)\n",
    "print(match)"
   ]
  },
  {
   "cell_type": "markdown",
   "id": "069817a2-747e-4e7b-a404-240ede4baab8",
   "metadata": {},
   "source": [
    "Q7. What is the difference between using a vertical bar (|) as an alteration and using square brackets\n",
    "as a character set?\n",
    "\n"
   ]
  },
  {
   "cell_type": "code",
   "execution_count": null,
   "id": "7813eb49-068e-46f4-a09c-3b84abac50a2",
   "metadata": {},
   "outputs": [],
   "source": [
    "| : is regex or. It will check either of any string is present in search string.\n",
    "\n",
    "[] : This will search for any character is present in string\n",
    "\n",
    "import re\n",
    "\n",
    "print(re.findall(\"She|he\", \"She is a great human!\"))\n",
    "\n",
    "print(re.findall(r'[^\\d]+',\"she is great human!\"))"
   ]
  },
  {
   "cell_type": "markdown",
   "id": "c8be3c1a-dc22-4cf8-b789-55d64d18bfb0",
   "metadata": {},
   "source": [
    "| : is regex or. It will check either of any strings is present in search string.\n",
    "\n",
    "[]:This will search for any character is present in string\n"
   ]
  },
  {
   "cell_type": "code",
   "execution_count": 4,
   "id": "29b7afed-6957-4936-9f7b-ef87f681e681",
   "metadata": {},
   "outputs": [
    {
     "name": "stdout",
     "output_type": "stream",
     "text": [
      "['She']\n",
      "['she is great human!']\n"
     ]
    }
   ],
   "source": [
    "import re\n",
    "print(re.findall(\"She|he\",\"She is a great human!\"))\n",
    "print(re.findall(r\"[^\\d]+\",\"she is great human!\"))"
   ]
  },
  {
   "cell_type": "markdown",
   "id": "36239e16-5af1-45a8-843c-d06c241c9138",
   "metadata": {},
   "source": [
    "Q8. In regular-expression search patterns, why is it necessary to use the raw-string indicator (r)? In  \n",
    "replacement strings?"
   ]
  },
  {
   "cell_type": "markdown",
   "id": "fe95ba43-27f7-49c2-b591-a3b10097f1ce",
   "metadata": {},
   "source": [
    "r inicates raw strings means that the characters ahead are individual characters not escape characters.It changes how \n",
    "the string literal is interpreted.Such literals are stored as they appear."
   ]
  },
  {
   "cell_type": "code",
   "execution_count": null,
   "id": "7adcabe6-2a1a-47fb-a8b9-4fa64ed2274e",
   "metadata": {},
   "outputs": [],
   "source": []
  }
 ],
 "metadata": {
  "kernelspec": {
   "display_name": "Python 3 (ipykernel)",
   "language": "python",
   "name": "python3"
  },
  "language_info": {
   "codemirror_mode": {
    "name": "ipython",
    "version": 3
   },
   "file_extension": ".py",
   "mimetype": "text/x-python",
   "name": "python",
   "nbconvert_exporter": "python",
   "pygments_lexer": "ipython3",
   "version": "3.9.12"
  }
 },
 "nbformat": 4,
 "nbformat_minor": 5
}
