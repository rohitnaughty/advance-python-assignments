{
 "cells": [
  {
   "cell_type": "markdown",
   "id": "b71aa27c-3a1c-4f06-a9ac-c8eb5fb5611e",
   "metadata": {},
   "source": [
    "Q1. Explain the difference between greedy and non-greedy syntax with visual terms in as few words\n",
    "as possible. What is the bare minimum effort required to transform a greedy pattern into a non-greedy\n",
    "one? What characters or characters can you introduce or change?\n",
    "\n"
   ]
  },
  {
   "cell_type": "code",
   "execution_count": 7,
   "id": "1b7fd6bb-59bd-49aa-a034-093a9ad8461a",
   "metadata": {},
   "outputs": [
    {
     "name": "stdout",
     "output_type": "stream",
     "text": [
      "<Robot is the latest addition to the tech items> <Robot is very advanced> <Robot is a machine>\n"
     ]
    },
    {
     "data": {
      "text/plain": [
       "'<Robot is the latest addition to the tech items>'"
      ]
     },
     "execution_count": 7,
     "metadata": {},
     "output_type": "execute_result"
    }
   ],
   "source": [
    "#Ans :Greedy verious ,python matches the longest possible string\n",
    "import re\n",
    "text=\"<Robot is the latest addition to the tech items> <Robot is very advanced> <Robot is a machine>\"\n",
    "greedyregobj=re.compile(r\"<.*>\")\n",
    "match=greedyregobj.search(text)\n",
    "print(match.group())\n",
    "\n",
    "#The Non-greedy version of the regex,Python matches the shortest possible string\n",
    "\n",
    "nongreedyreobj=re.compile(r'<Ro.*?>')\n",
    "match1=nongreedyreobj.search(text)\n",
    "match1.group()"
   ]
  },
  {
   "cell_type": "markdown",
   "id": "a7d1d3a8-5b18-4478-aed9-717c0601e1ce",
   "metadata": {},
   "source": [
    "Q2. When exactly does greedy versus non-greedy make a difference?  What if you're looking for a\n",
    "non-greedy match but the only one available is greedy?\n",
    "\n"
   ]
  },
  {
   "cell_type": "markdown",
   "id": "6926e345-f181-482b-96e7-c526b3dcdbc6",
   "metadata": {},
   "source": [
    "In the non-greedy version of the regex,Python matches the shortest possible string.In the greedy verious,\n",
    "Python matches the longest possible string.If only non greedy match is available,we can use other filtering \n",
    "or pattern matching methods of regex and further indentity the required pattern."
   ]
  },
  {
   "cell_type": "markdown",
   "id": "c66bedf9-e512-4fa3-9177-17eba52d7182",
   "metadata": {},
   "source": [
    "Q3. In a simple match of a string, which looks only for one match and does not do any replacement, is\n",
    "the use of a nontagged group likely to make any practical difference?\n",
    "\n"
   ]
  },
  {
   "cell_type": "code",
   "execution_count": 6,
   "id": "f5f5b84e-116b-48b6-be3e-77cc77a61ab0",
   "metadata": {},
   "outputs": [
    {
     "name": "stdout",
     "output_type": "stream",
     "text": [
      "Phone number found: 415\n",
      "Phone number found:415\n"
     ]
    }
   ],
   "source": [
    "import re \n",
    "phoneNumRegex=re.compile(r'\\d\\d\\d')\n",
    "mo=phoneNumRegex.search(\"my name is 415-555-4242\")\n",
    "print(\"Phone number found: \"+ mo.group()) #non tagged group\n",
    "print(\"Phone number found:\" + mo.group(0))\n"
   ]
  },
  {
   "cell_type": "markdown",
   "id": "dfb8079d-9ce3-4f65-be7e-f389149c33ba",
   "metadata": {},
   "source": [
    "Q4. Describe a scenario in which using a nontagged category would have a significant impact on the\n",
    "program's outcomes.\n",
    "\n"
   ]
  },
  {
   "cell_type": "code",
   "execution_count": 5,
   "id": "2b8dee06-5ef3-44be-a346-1d505ce0c269",
   "metadata": {},
   "outputs": [
    {
     "data": {
      "text/plain": [
       "('135', '135')"
      ]
     },
     "execution_count": 5,
     "metadata": {},
     "output_type": "execute_result"
    }
   ],
   "source": [
    "import re\n",
    "text=\"135.135\"\n",
    "pattern=r'(\\d+)(?:.)(\\d+)'\n",
    "regobj=re.compile(pattern)\n",
    "matobj=regobj.search(text)\n",
    "matobj.groups()\n",
    "#Here the \".\"decimal is not tagged or captured.\n",
    "#It will usefull in scenarios where the separator of value in a string is of no use and we need to capture only the \n",
    "#value"
   ]
  },
  {
   "cell_type": "markdown",
   "id": "068e23cf-9c1f-4ab6-9423-f7eec02d97c4",
   "metadata": {},
   "source": [
    "Q5. Unlike a normal regex pattern, a look-ahead condition does not consume the characters it\n",
    "examines. Describe a situation in which this could make a difference in the results of your\n",
    "programme.\n"
   ]
  },
  {
   "cell_type": "markdown",
   "id": "50a04f53-65c0-4668-bf40-46bd3d13a6e0",
   "metadata": {},
   "source": [
    "While counting the number of multiple lines or multiply sentence in a string the positive look ahead makes a\n",
    "difference,without which we wont get the correct count of lines or sentences in a string."
   ]
  },
  {
   "cell_type": "markdown",
   "id": "11099222-4c45-4e96-bd92-8e3b6e74c15e",
   "metadata": {},
   "source": [
    "\n",
    "Q6. In standard expressions, what is the difference between positive look-ahead and negative look-\n",
    "ahead?\n"
   ]
  },
  {
   "cell_type": "code",
   "execution_count": 4,
   "id": "51a550be-630e-46ad-8bb4-c1022c12cee7",
   "metadata": {},
   "outputs": [
    {
     "name": "stdout",
     "output_type": "stream",
     "text": [
      "Positive lookahead: ['abc']\n",
      "Negative look ahead: ['abc']\n"
     ]
    }
   ],
   "source": [
    "# Ans : Positive look ahead is an assertion continuing the search and extending the string e.g.pattern= r'abc(?=[A-Z])''. \n",
    "#       Here after 'abc', ? is extending the search and says that in the remaining string, first identify the next \n",
    "#       charater should be capitalized character between A and Z, but doesnt consume it.\n",
    "#       Example of Positive lookahead\n",
    "import re\n",
    "pat=r'abc(?=[A-Z])'\n",
    "text=\"abcABCEF\"\n",
    "regobj=re.compile(pat)\n",
    "matobj=regobj.findall(text)\n",
    "print(\"Positive lookahead:\",matobj)\n",
    "\n",
    "#       Negative look head is also an assertion to exclude certain patterns e.g. pattern = r'abc(?!abc)', means \n",
    "#       identify a substring containing \n",
    "#       'abc' which is not followed by another 'abc'\n",
    "#       Example of Negative lookahead\n",
    "import re\n",
    "pat1=r'abc(?!abc)'\n",
    "text1=\"aeiouabcabc\"\n",
    "regobj1=re.compile(pat1)\n",
    "matobj1=regobj1.findall(text)\n",
    "print(\"Negative look ahead:\",matobj1) "
   ]
  },
  {
   "cell_type": "markdown",
   "id": "4641ab43-78e6-4e52-8794-b5e62c974b9f",
   "metadata": {},
   "source": [
    "\n",
    "Q7. What is the benefit of referring to groups by name rather than by number in a standard\n",
    "expression?\n",
    "\n"
   ]
  },
  {
   "cell_type": "markdown",
   "id": "0e937a9c-2da6-45c9-b1d4-32dad14cedd9",
   "metadata": {},
   "source": [
    ": The benfit of referring to the groups by name is that \n",
    "\n",
    "      1)The code is clear \n",
    "      \n",
    "      2)It is easier to maintain the code."
   ]
  },
  {
   "cell_type": "markdown",
   "id": "86f1b1c2-3e4b-4d9b-a36b-28f36ee147fc",
   "metadata": {},
   "source": [
    "Q8. Can you identify repeated items within a target string using named groups, as in 'The cow\n",
    "jumped over the moon'?\n"
   ]
  },
  {
   "cell_type": "code",
   "execution_count": 3,
   "id": "0f96a164-b46a-4881-860a-e2ea262b7396",
   "metadata": {},
   "outputs": [
    {
     "data": {
      "text/plain": [
       "['The', 'the']"
      ]
     },
     "execution_count": 3,
     "metadata": {},
     "output_type": "execute_result"
    }
   ],
   "source": [
    "import re \n",
    "text =\"The cow jumped over the moon \"\n",
    "regobj=re.compile(r'(?P<w1>The)',re.I)\n",
    "regobj.findall(text)"
   ]
  },
  {
   "cell_type": "markdown",
   "id": "83b93b75-2e0d-49e2-b798-c96bf3b244fc",
   "metadata": {},
   "source": [
    "\n",
    "Q9. When parsing a string, what is at least one thing that the Scanner interface does for you that the\n",
    "re.findall feature does not?\n",
    "\n"
   ]
  },
  {
   "cell_type": "markdown",
   "id": "c3118020-85e1-43d5-95cc-ba990b53e1d6",
   "metadata": {},
   "source": [
    "re.search()method either returns None (if the pattern doesn't match),or a re.MatchObject that contains\n",
    "information about the matching part of the string .This method after the first match, so this is best \n",
    "suited for testing a regular expression more than extracting data,whereas \n",
    "Return all non-overlapping matches of pattern in string, as a list of strings.The string is scanned \n",
    "left to right ,and matches are returned in the order found.\n",
    "                                     "
   ]
  },
  {
   "cell_type": "markdown",
   "id": "132bdac6-d07e-4f58-8d2c-59afe59cedc4",
   "metadata": {},
   "source": [
    "Q10. Does a scanner object have to be named scanner?"
   ]
  },
  {
   "cell_type": "markdown",
   "id": "1c563f33-f8a6-4704-8e99-99ec32d251e9",
   "metadata": {},
   "source": [
    "The scanner object need not be named scanner.It may have any name.\n"
   ]
  },
  {
   "cell_type": "code",
   "execution_count": null,
   "id": "8cd28f48-677b-446a-ae81-1e79797be893",
   "metadata": {},
   "outputs": [],
   "source": []
  }
 ],
 "metadata": {
  "kernelspec": {
   "display_name": "Python 3 (ipykernel)",
   "language": "python",
   "name": "python3"
  },
  "language_info": {
   "codemirror_mode": {
    "name": "ipython",
    "version": 3
   },
   "file_extension": ".py",
   "mimetype": "text/x-python",
   "name": "python",
   "nbconvert_exporter": "python",
   "pygments_lexer": "ipython3",
   "version": "3.9.12"
  }
 },
 "nbformat": 4,
 "nbformat_minor": 5
}
