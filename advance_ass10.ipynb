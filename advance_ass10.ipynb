{
 "cells": [
  {
   "cell_type": "markdown",
   "id": "d3e39bec-649a-4b3a-bb7d-5dbc253a2326",
   "metadata": {},
   "source": [
    "Q1. What is the difference between __getattr__ and __getattribute__?\n",
    "\n"
   ]
  },
  {
   "cell_type": "raw",
   "id": "6a183215-c13f-499d-940f-712891a742ac",
   "metadata": {},
   "source": [
    "Normally, if we want to access the attribute of a class, we access it with instance of the class like instance.attribute_name. These attributes are already present in the class. Where as, to access the attribute of class which are not defined in the class, we use getattr() method.\n",
    "\n",
    "But if the attribute does exist, getattr won’t be invoked\n",
    "\n",
    "class Sample:\n",
    "    def __init__(self,address):\n",
    "        self.address = address\n",
    "    \n",
    "    def __getattr__(self,name):\n",
    "        return name.lower()\n",
    "    \n",
    "s =Sample('Banglore')\n",
    "print(s.address) # existing attribute\n",
    "print(s.ABCD) # ABCD is non defined in class"
   ]
  },
  {
   "cell_type": "markdown",
   "id": "89568005-dc5b-48fb-bd0a-a8e094c94f24",
   "metadata": {},
   "source": [
    "Normally,if we want to access the attribute of a class,we access it with instance of the class like \n",
    "instance.attribute_name. These attributes are already present in the class.Where as,to access the attributes of class\n",
    "which are not defined in the class, we use getattr() method.\n",
    "\n",
    "But if the attributes does exists, getattr won't be invoked"
   ]
  },
  {
   "cell_type": "code",
   "execution_count": 3,
   "id": "7fd45d44-50e9-44a2-8d2e-faf6d2a8f3f9",
   "metadata": {},
   "outputs": [
    {
     "name": "stdout",
     "output_type": "stream",
     "text": [
      "Banglore\n",
      "abcd\n"
     ]
    }
   ],
   "source": [
    "class Sample:\n",
    "    def __init__(self,address):\n",
    "        self.address=address\n",
    "    def __getattr__(self,name):\n",
    "        return name.lower()\n",
    "s=Sample(\"Banglore\")\n",
    "print(s.address)#existing attribute\n",
    "print(s.ABCD)#ABCD is non defined in class"
   ]
  },
  {
   "cell_type": "code",
   "execution_count": 4,
   "id": "8eb80318-654e-4409-965b-6d51c0490bb3",
   "metadata": {},
   "outputs": [
    {
     "name": "stdout",
     "output_type": "stream",
     "text": [
      "New Value\n"
     ]
    }
   ],
   "source": [
    "#getattribute will look for every attribute,doesn't matter if the attributes exists or not.\n",
    "class Dummy():\n",
    "    \n",
    "    def __getattribute__(self,attr):\n",
    "        return \"New Value\"\n",
    "d=Dummy()\n",
    "d.value=\"Old value\"\n",
    "print(d.value)#\"YOU SEE ME?\""
   ]
  },
  {
   "cell_type": "markdown",
   "id": "50050728-c7cf-4c4b-a5ad-1637d1f1f030",
   "metadata": {},
   "source": [
    "Q2. What is the difference between properties and descriptors?\n",
    "\n"
   ]
  },
  {
   "cell_type": "markdown",
   "id": "234135e4-65c2-49c1-bce0-97e26a6210f3",
   "metadata": {},
   "source": [
    "In Properties,We can bind getter,setter functions with an attribute name,using the build-in property function.In\n",
    "descriptor,We can bind getter,setter(and deleter) functions into a seperate class.We then assign an object of this \n",
    "class to the attribute name."
   ]
  },
  {
   "cell_type": "markdown",
   "id": "5607d126-ae1c-4547-ac26-811330f5e707",
   "metadata": {},
   "source": [
    "Q3. What are the key differences in functionality between __getattr__ and __getattribute__, as well as\n",
    "properties and descriptors?"
   ]
  },
  {
   "cell_type": "markdown",
   "id": "b78988a8-5c46-4e4b-9c9d-ee89bd0d37d9",
   "metadata": {},
   "source": [
    "To access the attribute of class which are not defined in the class,We use getattr() method.But if the attribute does\n",
    "exist,getattr won't be invoked.getattribute will look for every attribute,doesn't matter if the attribute exists or \n",
    "not.\n",
    "\n",
    "In Properties,we can bind getter,setter function with an attribute name,using the bulid-in property function.In\n",
    "descriptor,we bind getter,setter (and deleter) function into a separate class.We then assign an object of this \n",
    "class to the attribute name."
   ]
  },
  {
   "cell_type": "code",
   "execution_count": null,
   "id": "58b8d9fe-1f98-4194-bc71-4f0833c12faa",
   "metadata": {},
   "outputs": [],
   "source": []
  }
 ],
 "metadata": {
  "kernelspec": {
   "display_name": "Python 3 (ipykernel)",
   "language": "python",
   "name": "python3"
  },
  "language_info": {
   "codemirror_mode": {
    "name": "ipython",
    "version": 3
   },
   "file_extension": ".py",
   "mimetype": "text/x-python",
   "name": "python",
   "nbconvert_exporter": "python",
   "pygments_lexer": "ipython3",
   "version": "3.9.12"
  }
 },
 "nbformat": 4,
 "nbformat_minor": 5
}
