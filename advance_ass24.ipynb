{
 "cells": [
  {
   "cell_type": "markdown",
   "id": "b526616a-f63e-41f6-9834-55b1e23cfafe",
   "metadata": {},
   "source": [
    "Q1. Is it permissible to use several import statements to import the same module? What would the\n",
    "goal be? Can you think of a situation where it would be beneficial?\n",
    "\n"
   ]
  },
  {
   "cell_type": "markdown",
   "id": "e373a9da-767a-4eca-b057-5d3494da57a6",
   "metadata": {},
   "source": [
    "Yes, it is permissiible to use several import statements to import the same module.It is used in case \n",
    "when in case when we have to import multiple functions from same module."
   ]
  },
  {
   "cell_type": "markdown",
   "id": "4353d351-3502-4956-aab2-20dd7793f783",
   "metadata": {},
   "source": [
    "Q2. What are some of a module';s characteristics? (Name at least one.)\n",
    "\n"
   ]
  },
  {
   "cell_type": "code",
   "execution_count": null,
   "id": "ca230a23-bff5-47a3-86b9-0f062cc6a416",
   "metadata": {},
   "outputs": [],
   "source": [
    " The following are some of a module's characteristics:\n",
    "\n",
    "__name__ : It returns the name of the module\n",
    "__doc__ : It denotes the documentation string line written in a module code.\n",
    "__file__ : It holds the name and path of the module file from which it is loaded\n",
    "__dict__ : It return a dictionary object of module attributes, functions and other definitions and their respective values"
   ]
  },
  {
   "cell_type": "code",
   "execution_count": null,
   "id": "c4496932-768e-4feb-8987-de534d3a51c4",
   "metadata": {},
   "outputs": [],
   "source": [
    "The following are some of a module's characterstics:\n",
    "\n",
    "__name__ : It returns the name of the module \n",
    "__doc__:It denotes the documentation string linr written in a module code.\n",
    "__file__: It holds the name and path of the module file from which it is loaded.\n",
    "__dict__: It returns a dictionary object of module attributes, functions and other definitions and their respective values"
   ]
  },
  {
   "cell_type": "markdown",
   "id": "4ee35f83-d1f5-4f5f-b34e-30248cefb8f1",
   "metadata": {},
   "source": [
    "Q3. Circular importing, such as when two modules import each other, can lead to dependencies and\n",
    "bugs that aren't visible. How can you go about creating a program that avoids mutual importing?\n",
    "\n"
   ]
  },
  {
   "cell_type": "raw",
   "id": "808bf31d-3b57-412f-bc26-27fa9b686567",
   "metadata": {},
   "source": [
    "Circular importing means importing the modules in each other.If suppose we are working in MOD1.py file and it is importing some \n",
    "function say F2() from some module say MOD2.PY file or we can do vice-versa.What will happen is :This will give an import error.\n",
    "\n",
    "This is because when we import F2() function from module MOD2.py, then this will execute MOD2.py file.And in MOD2.py file there is a \n",
    "another statement of importing MOD1.py module.\n",
    "\n",
    "This will result in endless loop. To avoid this just do one thing we can use if __name__ =\"__main__\"\n",
    "\n",
    "In the function, you can't directly refer to the function in the program. The addition of this sentence avoids the endless loop of the \n",
    "program."
   ]
  },
  {
   "cell_type": "markdown",
   "id": "1e2b927c-7503-4666-8102-177ba09b4081",
   "metadata": {},
   "source": [
    "Q4. Why is _ _all_ _ in Python?\n",
    "\n"
   ]
  },
  {
   "cell_type": "markdown",
   "id": "fc1defb7-4179-4a47-90e4-69d848f501d1",
   "metadata": {},
   "source": [
    "It provides list of all modules present in a library.\n"
   ]
  },
  {
   "cell_type": "markdown",
   "id": "bbc69bda-5d1c-4c99-9868-dabe646da80c",
   "metadata": {},
   "source": [
    "Q5. In what situation is it useful to refer to the _ _name_ _ attribute or the string \"_ _main_ _\"?\n",
    "\n"
   ]
  },
  {
   "cell_type": "raw",
   "id": "d19f2305-5320-4ac5-8f4e-7d2e519333ef",
   "metadata": {},
   "source": [
    "During the time of execution of code if we want to refer the module in which we are working on then we uses name distribute.In that \n",
    "case it will return the module in which we  are working on.suppose if that module is being imported from some other module then name \n",
    "will have the name of that module from where the current module has been imported. The current module in which we are working is refer \n",
    "to the string __main__."
   ]
  },
  {
   "cell_type": "markdown",
   "id": "faedc0ce-36e9-4e01-b05d-fdb868f11121",
   "metadata": {},
   "source": [
    "Q6. What are some of the benefits of attaching a program counter to the RPN interpreter\n",
    "application, which interprets an RPN script line by line?\n",
    "\n"
   ]
  },
  {
   "cell_type": "code",
   "execution_count": null,
   "id": "9551a627-e0c9-4d84-a740-2dd9aa0848a2",
   "metadata": {},
   "outputs": [],
   "source": [
    "'''\n",
    "The function returns True if we can add operator to current expression:\n",
    "we scan the list and add +1 to counter when we meet a letter\n",
    "and we add -1 when we meet an operator (it reduces\n",
    "last two letters into 1 (say ab+ <--> a + b)\n",
    "''' \n",
    "def can_add_operator(string_):\n",
    "    n = 0\n",
    "    for letter in string_:\n",
    "        if letter not in ['+', '-', '*', '/']:\n",
    "            n += 1\n",
    "        else:\n",
    "            n -= 1\n",
    "    result = n > 1\n",
    "    return result\n",
    "\n",
    "\n",
    "can_add_operator('abc') #False\n",
    "can_add_operator('abc')  #True"
   ]
  },
  {
   "cell_type": "markdown",
   "id": "d342940a-c57c-4194-8c05-701a6ef0d5fa",
   "metadata": {},
   "source": [
    "Q7. What are the minimum expressions or statements (or both) that you\"d need to render a basic\n",
    "programming language like RPN primitive but complete— that is, capable of carrying out any\n",
    "computerised task theoretically possible?"
   ]
  },
  {
   "cell_type": "markdown",
   "id": "79396d45-e93e-4e3a-b5af-b0706a99498a",
   "metadata": {},
   "source": [
    "Notations : +-/*\n",
    "These are the basic notations we require to carry out a computerised task ,like RPN Primitive.\n",
    "We also need a particular data structure fo staring elements from a statement except operators."
   ]
  },
  {
   "cell_type": "code",
   "execution_count": null,
   "id": "a4cd7ab8-8512-4eae-b11d-3c5c94c52903",
   "metadata": {},
   "outputs": [],
   "source": []
  }
 ],
 "metadata": {
  "kernelspec": {
   "display_name": "Python 3 (ipykernel)",
   "language": "python",
   "name": "python3"
  },
  "language_info": {
   "codemirror_mode": {
    "name": "ipython",
    "version": 3
   },
   "file_extension": ".py",
   "mimetype": "text/x-python",
   "name": "python",
   "nbconvert_exporter": "python",
   "pygments_lexer": "ipython3",
   "version": "3.9.12"
  }
 },
 "nbformat": 4,
 "nbformat_minor": 5
}
