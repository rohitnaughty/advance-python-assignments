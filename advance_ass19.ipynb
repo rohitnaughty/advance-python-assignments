{
 "cells": [
  {
   "cell_type": "markdown",
   "id": "24a6d83b-3e7f-49d0-b0ba-ac73dbf3f047",
   "metadata": {},
   "source": [
    "Q1. Define the relationship between a class and its instances. Is it a one-to-one or a one-to-many\n",
    "partnership, for example?\n",
    "\n"
   ]
  },
  {
   "cell_type": "markdown",
   "id": "d5447f85-d43d-44eb-9363-61711536a35b",
   "metadata": {},
   "source": [
    "Class is abstraction of an real world entity .It consists of attributes and methods.Instance is an object of \n",
    "a class .It one to many relationship between class and its instances."
   ]
  },
  {
   "cell_type": "markdown",
   "id": "d608a9fa-ddf3-4f5d-8142-c4607c9735d7",
   "metadata": {},
   "source": [
    "Q2. What kind of data is held only in an instance?\n",
    "\n"
   ]
  },
  {
   "cell_type": "markdown",
   "id": "26ba0b4f-375a-4d12-9476-20e6a54b8715",
   "metadata": {},
   "source": [
    "Instance objects contains the Instance variables which are specific to that specify Instance object."
   ]
  },
  {
   "cell_type": "markdown",
   "id": "1e243829-9de3-4f71-bbf5-461cbc464055",
   "metadata": {},
   "source": [
    "Q3. What kind of knowledge is stored in a class?\n",
    "\n"
   ]
  },
  {
   "cell_type": "markdown",
   "id": "bd8ed46c-6971-47f9-88ab-d561f29b9dec",
   "metadata": {},
   "source": [
    "Class creates a user-defined data structure,Which holdes its own data members and member functions,which can be \n",
    "accessed and used by creating an instance of that class.A class is like a blueprint for an object."
   ]
  },
  {
   "cell_type": "markdown",
   "id": "ccb8d30a-9f6d-4e78-97e8-bf776c45cd09",
   "metadata": {},
   "source": [
    "Q4. What exactly is a method, and how is it different from a regular function?\n",
    "\n"
   ]
  },
  {
   "cell_type": "markdown",
   "id": "62000f62-3551-4521-a407-c4f655c4ccb4",
   "metadata": {},
   "source": [
    "The methods with a class can be used to access the instance variable of its instance.So, the object's state \n",
    "can be modified bynits method.Function can't access the attributes of an instance of a class or modify \n",
    "the state of the object."
   ]
  },
  {
   "cell_type": "markdown",
   "id": "37b8bac3-85a0-47d6-8568-a9a6987709c2",
   "metadata": {},
   "source": [
    "Q5. Is inheritance supported in Python, and if so, what is the syntax?\n",
    "\n"
   ]
  },
  {
   "cell_type": "code",
   "execution_count": 8,
   "id": "1c19ada4-bb30-40a3-97af-85cadffbe224",
   "metadata": {},
   "outputs": [
    {
     "name": "stdout",
     "output_type": "stream",
     "text": [
      "Class of Instance <class '__main__.B'>\n",
      "Base class:  (<class '__main__.A'>,)\n"
     ]
    }
   ],
   "source": [
    "#Inheritance is supported by python\n",
    "#          Example of inheritance :\n",
    "class A:\n",
    "    var=1\n",
    "    def __init__(self):\n",
    "        pass\n",
    "class B(A): #class B is detived from class A\n",
    "    def __init__(self):\n",
    "        super().__init__()\n",
    "c=B()\n",
    "print(\"Class of Instance\",c.__class__)\n",
    "print(\"Base class: \",c.__class__.__bases__)\n",
    "\n",
    "        "
   ]
  },
  {
   "cell_type": "markdown",
   "id": "fe21ea51-0a67-4ba0-b589-785e64374362",
   "metadata": {},
   "source": [
    "Q6. How much encapsulation (making instance or class variables private) does Python support?"
   ]
  },
  {
   "cell_type": "markdown",
   "id": "a52f4d7d-61ea-455c-83b8-bb559d535191",
   "metadata": {},
   "source": [
    "Encapasulation prevents from accessing accidentally,but not intentionally.The private attributes and methods\n",
    "are not really hidden.The private attributes can be accessed within the object method."
   ]
  },
  {
   "cell_type": "markdown",
   "id": "1b3dc57f-dedc-433f-8fc3-01ac0c9d8e94",
   "metadata": {},
   "source": [
    "Q7. How do you distinguish between a class variable and an instance variable?\n",
    "\n"
   ]
  },
  {
   "cell_type": "markdown",
   "id": "10a8b336-af7c-4ce2-93d1-0e8e7340d30c",
   "metadata": {},
   "source": [
    "The class attribute is available to all the instance objects of the class. Instance variable is accessible \n",
    "only to the object or Instance of that class."
   ]
  },
  {
   "cell_type": "markdown",
   "id": "b118ce49-d2b8-432f-ba7f-9798a1cb3e24",
   "metadata": {},
   "source": [
    "Q8. When, if ever, can self be included in a class's method definitions?\n",
    "\n"
   ]
  },
  {
   "cell_type": "markdown",
   "id": "6c3cc0e4-1aae-4da5-b928-891232f411b2",
   "metadata": {},
   "source": [
    "self can included to access the class variables and instance variables."
   ]
  },
  {
   "cell_type": "markdown",
   "id": "f5749740-a542-44b2-bf62-7b91584e98d4",
   "metadata": {},
   "source": [
    "Q9. What is the difference between the _ _add_ _ and the _ _radd_ _ methods?\n",
    "\n"
   ]
  },
  {
   "cell_type": "markdown",
   "id": "349e3bd0-775d-482e-93c2-c4735b207fb1",
   "metadata": {},
   "source": [
    "When you add two numbers using the + operator ,internally,the __add__() method will be called.We can overload\n",
    "This method to perform"
   ]
  },
  {
   "cell_type": "markdown",
   "id": "e00526b0-8f90-4ab9-a4bd-aa4265d22f3e",
   "metadata": {},
   "source": [
    "Q10. When is it necessary to use a reflection method? When do you not need it, even though you\n",
    "support the operation in question?\n"
   ]
  },
  {
   "cell_type": "markdown",
   "id": "f604e2ef-175f-4078-b00d-256f0471d487",
   "metadata": {},
   "source": [
    "Suppose  we are implementing a class that you want to act like a number via operator overloading.So we implement\n",
    "__add__ in your class, and now expressions like obj + 10 is acceptable.This is because obj+10 is interpreted \n",
    "as obj.__add__(10), and the custom method __add__ can do whatever it means to add 10 to custom class.\n",
    "However,What about an expression like 10 +obj which is really (10).__add__(myobj)?\n",
    "The 10 is an instance of a python build=in type and its __add__method  doesn't know anything\n",
    "about the new type,obj so it will return a error NotImplemented.\n",
    "To handle such scenarios,__radd__is used.Python will first try (10).__add__(myobj),\n",
    "and if that returns NotImplemented,Python will check if the right hand operand implements \n",
    "__radd__,and if it does ,it will call obj.__radd(10) rather than raising a TypeError.\n"
   ]
  },
  {
   "cell_type": "markdown",
   "id": "424e9bf7-f7ce-4b92-9b82-8be291f98872",
   "metadata": {},
   "source": [
    "\n",
    "Q11. What is the _ _iadd_ _ method called?\n",
    "\n"
   ]
  },
  {
   "cell_type": "code",
   "execution_count": 10,
   "id": "6979a871-0b80-47f8-848e-2edba107ccf6",
   "metadata": {},
   "outputs": [
    {
     "name": "stdout",
     "output_type": "stream",
     "text": [
      "2\n"
     ]
    }
   ],
   "source": [
    "#__iadd__method is called when we use implementation like a+=b which is a.__iadd__(b)\n",
    "class A:\n",
    "    def __init__(self,x):\n",
    "        self.x=x\n",
    "    def __iadd__(self,other):\n",
    "        return self.x\n",
    "obj1=A(2)\n",
    "obj2=A(3)\n",
    "obj1+=obj2\n",
    "print(obj1)"
   ]
  },
  {
   "cell_type": "markdown",
   "id": "84ad870d-c47f-4a88-8a26-a6d7e8c4fc33",
   "metadata": {},
   "source": [
    "Q12. Is the _ _init_ _ method inherited by subclasses? What do you do if you need to customize its\n",
    "behavior within a subclass?"
   ]
  },
  {
   "cell_type": "code",
   "execution_count": 7,
   "id": "47c46378-347b-4a83-a9b3-db9ed43b2443",
   "metadata": {},
   "outputs": [
    {
     "data": {
      "text/plain": [
       "7"
      ]
     },
     "execution_count": 7,
     "metadata": {},
     "output_type": "execute_result"
    }
   ],
   "source": [
    "#__init__method is inherited by its subclass.But it can beoverloaded,to customize it\n",
    "class A:\n",
    "    def __init__(self,x):\n",
    "        self.x=x\n",
    "class B(A):\n",
    "    pass\n",
    "obj=B(2)\n",
    "obj.x\n",
    "#   here the value x is accessible to instance of class b which issubclass \n",
    "#   __init__of class A is inherited in sub class B\n",
    "class C(A):\n",
    "    def __init__(self,x,y):#Here we can overloading the__init__ inherited from class A\n",
    "        self.x=x\n",
    "        self.y=y\n",
    "    def func(self):\n",
    "        return (self.x+self.y)\n",
    "obj1=C(3,4)\n",
    "obj1.func()\n",
    "    "
   ]
  },
  {
   "cell_type": "code",
   "execution_count": null,
   "id": "d9534ba4-89f0-4308-9561-8ac90b355167",
   "metadata": {},
   "outputs": [],
   "source": []
  }
 ],
 "metadata": {
  "kernelspec": {
   "display_name": "Python 3 (ipykernel)",
   "language": "python",
   "name": "python3"
  },
  "language_info": {
   "codemirror_mode": {
    "name": "ipython",
    "version": 3
   },
   "file_extension": ".py",
   "mimetype": "text/x-python",
   "name": "python",
   "nbconvert_exporter": "python",
   "pygments_lexer": "ipython3",
   "version": "3.9.12"
  }
 },
 "nbformat": 4,
 "nbformat_minor": 5
}
