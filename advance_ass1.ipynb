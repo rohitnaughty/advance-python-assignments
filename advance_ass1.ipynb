{
 "cells": [
  {
   "cell_type": "markdown",
   "id": "061dfa00-873f-413b-b477-66dd246bc08f",
   "metadata": {},
   "source": [
    "Q1. What is the purpose of Python's OOP?"
   ]
  },
  {
   "cell_type": "code",
   "execution_count": null,
   "id": "3f0d3fe9-9404-4fff-aae0-7ea0f847b053",
   "metadata": {},
   "outputs": [],
   "source": [
    "Provides a clear program structure and a clean code\n",
    "\n",
    "Facilitates easy maintenance and modification of existing code.\n",
    "\n",
    "Since the class is sharable, the code can be reused.\n",
    "\n",
    "Since the class is sharable, the code can be reused and many other such anvantages "
   ]
  },
  {
   "cell_type": "code",
   "execution_count": null,
   "id": "330930e1-3a41-44e9-822f-9211e647ed1b",
   "metadata": {},
   "outputs": [],
   "source": [
    "Provides a clear program structure and a clean code\n",
    "\n",
    "Facilitates easy maintenance and modification of existing code.\n",
    "\n",
    "Since the class is sharable, the code can be reused.\n",
    "\n",
    "Since the class is sharable, the code can be reused and many other such Advantages."
   ]
  },
  {
   "cell_type": "markdown",
   "id": "f04d64f0-f469-48eb-b0ea-1015c57f7117",
   "metadata": {},
   "source": [
    "Q2. Where does an inheritance search look for an attribute?"
   ]
  },
  {
   "cell_type": "markdown",
   "id": "ae18e830-a0bf-43a4-ad2f-341d1f7e7e39",
   "metadata": {},
   "source": [
    "Attribute fetches are simply tree searches. The term  inheritance is applied because abjects lower in a tree inherit\n",
    "attributes attached to objects higher in that tree.As the search proceeds from the bottom up, in a sence, the objects \n",
    "linked into a tree are the union af all attributes defined in all their tree parents,all the way up the tree."
   ]
  },
  {
   "cell_type": "markdown",
   "id": "a23e3d9e-5963-4c92-b461-3b151513a533",
   "metadata": {},
   "source": [
    "Q3. How do you distinguish between a class object and an instance object?"
   ]
  },
  {
   "cell_type": "markdown",
   "id": "a5a40f28-1edd-4d7c-853b-bae2ce6f4efd",
   "metadata": {},
   "source": [
    "Objects amd instances are almost similar and are often used interchangeably but with small difference.Object is a \n",
    "generic term, it is physically present but remains undifferentiated . Instance is something that gives them a seperate\n",
    "identity.\n",
    "Object is the physical entity for which memory is allocated. Object contains many instance.\n",
    "Instance:An instance is also the physical manifestation of a class that occupies memory and has data members.\n",
    "e.g. There is class car, when I created c=car(), c is object. When we create different object with different \n",
    "specifictions(car,name,type,company) such as i10,i20,baleno,mustang are called as instances which actually exists.  "
   ]
  },
  {
   "cell_type": "markdown",
   "id": "2d26441e-9a7c-4f39-bfb3-2bd36aa13dc9",
   "metadata": {},
   "source": [
    "Q4. What makes the first argument in a class’s method function special?"
   ]
  },
  {
   "cell_type": "markdown",
   "id": "a424d183-2eec-4d48-b392-8b8bfff7df03",
   "metadata": {},
   "source": [
    "Self represents the instance of the class.By using the \"self\"keyword we can access the attributes and methods ao the class\n",
    "in python, It binds the attributes with the given arguments. The reason you need to use self is because Python does not use\n",
    "the @syntax to refer to instance attributes.Python decided to do methods in a way that makes the instance to which the \n",
    "method  belongs be passed automatically,but not recieved automatically the first parameter of methods is the instance \n",
    "the method is called on. "
   ]
  },
  {
   "cell_type": "markdown",
   "id": "acb1e417-c2e9-4701-b432-06bec9fe1df1",
   "metadata": {},
   "source": [
    "Q5. What is the purpose of the __init__ method?"
   ]
  },
  {
   "cell_type": "markdown",
   "id": "ccc86fd7-510a-4fe8-8600-27d39a63f42a",
   "metadata": {},
   "source": [
    "The task of init method is to initialize(assign values) to the data members of the class when an object of class is \n",
    "created.It contains collection of statements that are executed at time of object creation. It is run as soon as an \n",
    "object of a class is instantiated. The method is usefull to do any initialization you want to do with your object."
   ]
  },
  {
   "cell_type": "markdown",
   "id": "02349f48-37ac-47b3-9e49-041ea7e6f629",
   "metadata": {},
   "source": [
    "Q6. What is the process for creating a class instance?"
   ]
  },
  {
   "cell_type": "markdown",
   "id": "ffda5222-149f-41b9-8a06-9282e4cf2f22",
   "metadata": {},
   "source": [
    "To create instance of a class, you call the class using class name and pass in whatever arguments its init method accepts.\n"
   ]
  },
  {
   "cell_type": "markdown",
   "id": "bb122faa-3449-4883-a436-ef8946bd1508",
   "metadata": {},
   "source": [
    "To create instances of a class, you call the class using class name and pass in whatever arguments its init method accepts."
   ]
  },
  {
   "cell_type": "markdown",
   "id": "7129d603-97a2-440f-a6fb-2a26e3c497e1",
   "metadata": {},
   "source": [
    "Q7. What is the process for creating a class?"
   ]
  },
  {
   "cell_type": "markdown",
   "id": "c445700e-04e3-4599-bb56-8d47d00aab17",
   "metadata": {},
   "source": [
    "The class statement creates a new class definition. The name of the class immediately follows the keyword class followed class followed by a colon.\n",
    "Explained below"
   ]
  },
  {
   "cell_type": "code",
   "execution_count": 2,
   "id": "64fe77a4-fe60-464f-989e-2424736fb1a3",
   "metadata": {},
   "outputs": [
    {
     "name": "stdout",
     "output_type": "stream",
     "text": [
      "This is Rohit nautiyal (an instance of a class Student)\n"
     ]
    }
   ],
   "source": [
    "#Example for questtion 6 & 7\n",
    "\n",
    "class Student:\n",
    "    def __init__(self,name):\n",
    "        self.name = name\n",
    "    \n",
    "    def __str__(self):\n",
    "        return f\"This is {self.name} (an instance of a class Student)\"\n",
    "    \n",
    "student1 = Student(\"Rohit nautiyal\")       \n",
    "print(student1)"
   ]
  },
  {
   "cell_type": "markdown",
   "id": "30c96794-5a75-4725-9191-5655bbaae649",
   "metadata": {},
   "source": [
    "Q8. How would you define the superclasses of a class?"
   ]
  },
  {
   "cell_type": "markdown",
   "id": "c18a11e4-a831-4446-ab63-7b8e94c95ed3",
   "metadata": {},
   "source": [
    "A superclass is the class from which many subclasses can be created.The subclasses inherit the characteristics of a \n",
    "super class. The superclass is also known as the parent class or base class. "
   ]
  },
  {
   "cell_type": "code",
   "execution_count": 1,
   "id": "a22447e9-7d10-4e72-be41-e9ac255318cf",
   "metadata": {},
   "outputs": [
    {
     "name": "stdout",
     "output_type": "stream",
     "text": [
      "this is method of class A\n",
      "this is method of class B\n",
      "this is method of class A\n",
      "this is method of class A\n",
      "this is method of class A\n"
     ]
    }
   ],
   "source": [
    "\n",
    "\n",
    "class A:\n",
    "    def method_A(self):\n",
    "        return \"this is method of class A\"\n",
    "    \n",
    "class B(A):\n",
    "    def method_B(self):\n",
    "        return \"this is method of class B\"\n",
    "\n",
    "class C(A):\n",
    "    def method_B(self):\n",
    "        return \"this is method of class C\"\n",
    "    \n",
    "class D(A):\n",
    "    def method_B(self):\n",
    "        return \"this is method of class D\"\n",
    "\n",
    "# Class B, C, D are subclasses and Class A is superclass    \n",
    "a = A()\n",
    "b = B()\n",
    "c = C()\n",
    "d = D()\n",
    "\n",
    "print(a.method_A())\n",
    "print(b.method_B())\n",
    "print(b.method_A())   # objects of class B, C and D are able to access method of class A because Class A is superclass. \n",
    "print(c.method_A())\n",
    "print(d.method_A())\n"
   ]
  },
  {
   "cell_type": "code",
   "execution_count": null,
   "id": "826cd9a6-9e19-4295-890c-e3da5578b4df",
   "metadata": {},
   "outputs": [],
   "source": []
  }
 ],
 "metadata": {
  "kernelspec": {
   "display_name": "Python 3 (ipykernel)",
   "language": "python",
   "name": "python3"
  },
  "language_info": {
   "codemirror_mode": {
    "name": "ipython",
    "version": 3
   },
   "file_extension": ".py",
   "mimetype": "text/x-python",
   "name": "python",
   "nbconvert_exporter": "python",
   "pygments_lexer": "ipython3",
   "version": "3.9.12"
  }
 },
 "nbformat": 4,
 "nbformat_minor": 5
}
