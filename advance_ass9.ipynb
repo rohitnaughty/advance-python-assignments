{
 "cells": [
  {
   "cell_type": "markdown",
   "id": "957313d5-344f-424f-b0d2-682c3827ff65",
   "metadata": {},
   "source": [
    "Q1. In Python 3.X, what are the names and functions of string object types?\n",
    "\n"
   ]
  },
  {
   "cell_type": "raw",
   "id": "4a26899b-ef03-4e7d-bee0-a8795598af92",
   "metadata": {},
   "source": [
    "In Python 3.x and later, String objects has in build in class named as \"str\" and it is used to store characters\n",
    "in memory in encoded format."
   ]
  },
  {
   "cell_type": "markdown",
   "id": "b89cb956-482a-41c4-9dd2-160ce59637b6",
   "metadata": {},
   "source": [
    "Q2. How do the string forms in Python 3.X vary in terms of operations?\n",
    "\n"
   ]
  },
  {
   "cell_type": "code",
   "execution_count": null,
   "id": "42d38bd1-e83c-4ef0-8983-dc5578f5ca95",
   "metadata": {},
   "outputs": [],
   "source": [
    "Python supports ASCII as a subset of Unicode. The default encoding of characters in python is UTF-8(Unicode\n",
    "Transformation Format -8-bit).ASCII is really a 7-bit character set: it is mapped to 8-bit bytes by setting the high\n",
    "bit to zero.Thus,ASCII characters are unchanged in UTF-8.A non-zero high bit inicated that a character composed of\n",
    "multiple bytes.\n"
   ]
  },
  {
   "cell_type": "code",
   "execution_count": 6,
   "id": "44042f38-b7d3-4ea1-a204-ebf22f12a18b",
   "metadata": {},
   "outputs": [
    {
     "name": "stdout",
     "output_type": "stream",
     "text": [
      "116\n"
     ]
    }
   ],
   "source": [
    "u=\"rohit\"\n",
    "print(ord(u[-1]))"
   ]
  },
  {
   "cell_type": "markdown",
   "id": "933c7ee2-ef51-4774-804e-4d7e22c5dc64",
   "metadata": {},
   "source": [
    "Q3. In 3.X, how do you put non-ASCII Unicode characters in a string?\n",
    "\n"
   ]
  },
  {
   "cell_type": "code",
   "execution_count": null,
   "id": "55dd99eb-3ba4-480c-beeb-51ac2212ec7c",
   "metadata": {},
   "outputs": [],
   "source": [
    "As we know, there are only 127 ASCII characters in ascci table.It stores symbols, letters, whitespace characters,non\n",
    "printable characters, which are very less. So Python 3 has adopted unicode encoding of strings. For non ASCII u can get\n",
    "any value more than 127.\n"
   ]
  },
  {
   "cell_type": "code",
   "execution_count": 5,
   "id": "f6855dee-23a4-4980-a528-3b78d2a82667",
   "metadata": {},
   "outputs": [
    {
     "name": "stdout",
     "output_type": "stream",
     "text": [
      "Naughty©\n"
     ]
    }
   ],
   "source": [
    "s=\"Naughty\"\n",
    "s+=chr(128)+chr(169)\n",
    "print(s)"
   ]
  },
  {
   "cell_type": "markdown",
   "id": "3d664ae4-00c0-483c-9845-103e6daaaa37",
   "metadata": {},
   "source": [
    "Q4. In Python 3.X, what are the key differences between text-mode and binary-mode files?\n",
    "\n"
   ]
  },
  {
   "cell_type": "code",
   "execution_count": null,
   "id": "72c609d0-966b-4d1e-9021-37318d157d4d",
   "metadata": {},
   "outputs": [],
   "source": [
    "File opened in binary mode (appending \"b\" to the mode argument) return contents as bytes objects without any decoding.\n",
    "In text mode (the default, or when \"t0\" is appended to the mode argument), the contents of the file are returned as\n",
    "strings, the bytes having been first decorded using a platform-dependent encoding or using the specified encoding if \n",
    "given."
   ]
  },
  {
   "cell_type": "markdown",
   "id": "14213c90-b1e8-4378-937e-313bf5f7094e",
   "metadata": {},
   "source": [
    "Q5. How can you interpret a Unicode text file containing text encoded in a different encoding than\n",
    "your platform's default?\n",
    "\n"
   ]
  },
  {
   "cell_type": "raw",
   "id": "c25edc02-ab2a-4dff-a5f8-89996c4ecea6",
   "metadata": {},
   "source": [
    "While reading file,we can specify the encoding such as(utf16,utf32),so the file will be decoded according to that\n",
    "encoding and results are returned to the user.\n"
   ]
  },
  {
   "cell_type": "code",
   "execution_count": 7,
   "id": "02c4ae8f-44ea-4274-9719-71f834d6c8e7",
   "metadata": {},
   "outputs": [
    {
     "name": "stdout",
     "output_type": "stream",
     "text": [
      "this is sample text file for understanding encoding\n"
     ]
    }
   ],
   "source": [
    "text=\"this is sample text file for understanding encoding\"\n",
    "f=open(\"sample.txt\",\"w\",encoding=\"utf16\")\n",
    "f.write(text)\n",
    "f.close()\n",
    "\n",
    "f=open(\"sample.txt\",\"r\",encoding=\"utf16\")\n",
    "print(f.read())"
   ]
  },
  {
   "cell_type": "code",
   "execution_count": 10,
   "id": "a1eb18f0-b7f2-4c1a-99a4-44a434c3e58c",
   "metadata": {},
   "outputs": [
    {
     "name": "stdout",
     "output_type": "stream",
     "text": [
      "my name is rohit\n"
     ]
    }
   ],
   "source": [
    "text1=\"my name is rohit\"\n",
    "encoded_data=text1.encode(\"utf16\")\n",
    "\n",
    "file=open(\"sample1.txt\",\"wb\")\n",
    "file.write(encoded_data)\n",
    "file=open(\"sample1.txt\",\"r\",encoding=\"utf16\")\n",
    "print(file.read())"
   ]
  },
  {
   "cell_type": "markdown",
   "id": "1eb83042-6c20-48c4-be82-cc815e5f4640",
   "metadata": {},
   "source": [
    "Q6. What is the best way to make a Unicode text file in a particular encoding format?\n",
    "\n"
   ]
  },
  {
   "cell_type": "raw",
   "id": "c3c3e4d1-7ff9-40be-971c-3411808ae345",
   "metadata": {},
   "source": [
    "Use str.encode() and file.write() to make a Unicode text file in a particular encoding format, default encoding format is UTF-18.\n",
    "\n",
    "Call str.encode(encoding) with encoding set to utf8 to encode str.\n",
    "Call open(file, mode) to open a file with mode set to wb . wb writes to files in binary mode & preserves UTF-8format.\n",
    "Call file.write(data) to write data to the file.\n"
   ]
  },
  {
   "cell_type": "code",
   "execution_count": 12,
   "id": "6d862f56-afaa-47e3-8fe7-edd42f458b3b",
   "metadata": {},
   "outputs": [
    {
     "name": "stdout",
     "output_type": "stream",
     "text": [
      "b'\\xd1\\x83\\xd0\\xbb\\xd1\\x8b\\xd0\\xb1\\xd0\\xb0\\xd1\\x82\\xd1\\x8c\\xd1\\x81\\xd1\\x8f \\xd0\\x92\\xd0\\xbb\\xd0\\xb0\\xd0\\xb4\\xd0\\xb8\\xd0\\xbc\\xd0\\xb8\\xd1\\x80 \\xd0\\x9f\\xd1\\x83\\xd1\\x82\\xd0\\xb8\\xd0\\xbd'\n",
      "\n",
      "b'\\xd1\\x83\\xd0\\xbb\\xd1\\x8b\\xd0\\xb1\\xd0\\xb0\\xd1\\x82\\xd1\\x8c\\xd1\\x81\\xd1\\x8f \\xd0\\x92\\xd0\\xbb\\xd0\\xb0\\xd0\\xb4\\xd0\\xb8\\xd0\\xbc\\xd0\\xb8\\xd1\\x80 \\xd0\\x9f\\xd1\\x83\\xd1\\x82\\xd0\\xb8\\xd0\\xbd'\n"
     ]
    }
   ],
   "source": [
    "unicode_text = u\"улыбаться Владимир Путин\"\n",
    "encoded_unicode_text = unicode_text.encode(\"utf-8\")\n",
    "print(encoded_unicode_text,end=\"\\n\\n\")\n",
    "\n",
    "w_file = open(\"w_file.txt\",\"wb\")\n",
    "w_file.write(encoded_unicode_text)\n",
    "w_file.close()\n",
    "\n",
    "r_file = open(\"w_file.txt\",\"rb\")\n",
    "data = r_file.read()\n",
    "print(data)"
   ]
  },
  {
   "cell_type": "markdown",
   "id": "8c83d7ee-a59e-494f-8b73-2f9e5801e21d",
   "metadata": {},
   "source": [
    "Q7. What qualifies ASCII text as a form of Unicode text?\n",
    "\n"
   ]
  },
  {
   "cell_type": "raw",
   "id": "80f4099c-081e-428d-9fbf-460c8ada684b",
   "metadata": {},
   "source": [
    "The first 123 Unicode code points represent the equivalent ASCII characters. They have the same meaning in both ASCII\n",
    "and unicode.Since UTF-8 encodes each of these characters with a single byte, and ASCII text is also a UTF-8 text.\n",
    "Unicode is a superset of ASCII."
   ]
  },
  {
   "cell_type": "markdown",
   "id": "e75a0944-622b-4125-a720-d02e382e8be6",
   "metadata": {},
   "source": [
    "Q8. How much of an effect does the change in string types in Python 3.X have on your code?"
   ]
  },
  {
   "cell_type": "raw",
   "id": "09c7f1dd-f3fe-459a-8fa7-c618e95e5c9d",
   "metadata": {},
   "source": [
    "In Python 3.X and later, there is only one string type that is unicode. So no effect on the code."
   ]
  },
  {
   "cell_type": "code",
   "execution_count": null,
   "id": "2df7a0f8-fbe3-4daf-84be-bd1ae73ee0a7",
   "metadata": {},
   "outputs": [],
   "source": []
  }
 ],
 "metadata": {
  "kernelspec": {
   "display_name": "Python 3 (ipykernel)",
   "language": "python",
   "name": "python3"
  },
  "language_info": {
   "codemirror_mode": {
    "name": "ipython",
    "version": 3
   },
   "file_extension": ".py",
   "mimetype": "text/x-python",
   "name": "python",
   "nbconvert_exporter": "python",
   "pygments_lexer": "ipython3",
   "version": "3.9.12"
  }
 },
 "nbformat": 4,
 "nbformat_minor": 5
}
