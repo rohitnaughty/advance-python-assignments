{
 "cells": [
  {
   "cell_type": "markdown",
   "id": "4480e42a-91d8-47ca-ad78-b44f5ff081ae",
   "metadata": {},
   "source": [
    "1. What is the concept of an abstract superclass?\n",
    "\n"
   ]
  },
  {
   "cell_type": "code",
   "execution_count": null,
   "id": "0591cb7a-275b-4013-abaf-d4096509108e",
   "metadata": {},
   "outputs": [],
   "source": [
    "A class is called an Abstract class if it contains one or more abstract methods.An abstract method is a nethod that \n",
    "is declared, but contains no implementation.Abstract classes may not be instantiated, and abstract methods must be \n",
    "implemented by its subclasses."
   ]
  },
  {
   "cell_type": "code",
   "execution_count": 1,
   "id": "7cd20ef2-29e9-49ec-9526-bd850cc9f1ea",
   "metadata": {},
   "outputs": [
    {
     "name": "stdout",
     "output_type": "stream",
     "text": [
      "area: 200\n"
     ]
    }
   ],
   "source": [
    "import abc\n",
    "class Shape(metaclass=abc.ABCMeta):\n",
    "    @abc.abstractmethod\n",
    "    def area(self):\n",
    "        pass\n",
    "class Rectangle(Shape):\n",
    "    def __init__(self,x,y):\n",
    "        self.l=x\n",
    "        self.b=y\n",
    "    def area(self):\n",
    "        return self.l*self.b\n",
    "\n",
    "r=Rectangle(10,20)\n",
    "print(\"area:\",r.area())"
   ]
  },
  {
   "cell_type": "markdown",
   "id": "e6536584-5400-4fe7-84f1-2d54ff5ba1a9",
   "metadata": {},
   "source": [
    "The \"abc\" module in python library provides the infrastructure for defining custom abstract base classes.\n",
    "\"abc\" works by marking methods of the base class as abstract.This is done by @abstractmethod decorator. A concrete\n",
    "class which is a sub class of such abstract base class then implememts the abstract base by overriding its abstract\n",
    "methods.\n",
    "\n",
    "The abc module defines ABCMeta class which is a meta class for defining abstract base class. Following example defines \n",
    "Shape class as an abstract base class using ABCMeta. The shape class has area() method decorated by abstractmethod.\n",
    "\n",
    "A Rectangle class now uses above Shape class as its parent and implementing the abstract area() method. since it is a\n",
    "concrete class, it can be instantiated  and implemented area() method can be called.\n"
   ]
  },
  {
   "cell_type": "code",
   "execution_count": null,
   "id": "df821e8b-879b-4c88-b614-e9afde33acdc",
   "metadata": {},
   "outputs": [],
   "source": []
  },
  {
   "cell_type": "markdown",
   "id": "f4cc0bc2-1f0e-44b5-9922-44ef0e34c003",
   "metadata": {},
   "source": [
    "2. What happens when a class statement's top level contains a basic assignment statement?\n",
    "\n"
   ]
  },
  {
   "cell_type": "code",
   "execution_count": null,
   "id": "d781db67-6f59-43c2-b470-b9fa281cb434",
   "metadata": {},
   "outputs": [],
   "source": [
    "When class statement's top level contains a basic assignment statement,it is considered as class attribute.Change in\n",
    "the value of class attribute will affect all the instances of the class."
   ]
  },
  {
   "cell_type": "code",
   "execution_count": 2,
   "id": "4e2197f7-5c66-499a-9494-42fb206145bb",
   "metadata": {},
   "outputs": [
    {
     "name": "stdout",
     "output_type": "stream",
     "text": [
      "1234\n",
      "2\n",
      "3\n",
      "567\n",
      "567\n"
     ]
    }
   ],
   "source": [
    "class Sample:\n",
    "    some_value=1234\n",
    "    \n",
    "    def __init__(self,value1):\n",
    "        self.value1=value1\n",
    "s=Sample(2)\n",
    "s1=Sample(3)\n",
    "print(s.some_value)\n",
    "print(s.value1)\n",
    "print(s1.value1)\n",
    "Sample.some_value=567\n",
    "print(s.some_value)\n",
    "print(s1.some_value)"
   ]
  },
  {
   "cell_type": "markdown",
   "id": "4221bb30-3fc4-4ca0-b184-7d23c54948cc",
   "metadata": {},
   "source": [
    "3. Why does a class need to manually call a superclass's __init__ method?\n",
    "\n"
   ]
  },
  {
   "cell_type": "markdown",
   "id": "497fc01f-39b1-45fd-b9b2-461013cab5ef",
   "metadata": {},
   "source": [
    "By doing so, We can access those methods of the super-class(parent class) which have been overridden in a sub-class\n",
    "(child class) that inherits from it"
   ]
  },
  {
   "cell_type": "markdown",
   "id": "6c439bca-d571-43a9-864c-61736d928325",
   "metadata": {},
   "source": [
    "4. How can you augment, instead of completely replacing, an inherited method?\n",
    "\n"
   ]
  },
  {
   "cell_type": "markdown",
   "id": "0403f889-3448-4574-8ad5-14849a4226a8",
   "metadata": {},
   "source": [
    "The way to do that in python is by calling to the original version directly, with argumented arguments."
   ]
  },
  {
   "cell_type": "markdown",
   "id": "46b2f7bf-e4e2-413c-8440-a58d76c1e357",
   "metadata": {},
   "source": [
    "5. How is the local scope of a class different from that of a function?"
   ]
  },
  {
   "cell_type": "raw",
   "id": "af5e6bb6-8831-42e1-8d51-ac9f04fac553",
   "metadata": {},
   "source": [
    "In class, if the variable is declared without self then it is accessible within that function only, kinda local variable.However if it declared using self like self.variable_name=\"somevalue\", then it is accessible via any object but via the class name.\n",
    "\n",
    "Whereas, if a variable is decalared within a function then it is a local variable and is accessible to that function only. \n"
   ]
  }
 ],
 "metadata": {
  "kernelspec": {
   "display_name": "Python 3 (ipykernel)",
   "language": "python",
   "name": "python3"
  },
  "language_info": {
   "codemirror_mode": {
    "name": "ipython",
    "version": 3
   },
   "file_extension": ".py",
   "mimetype": "text/x-python",
   "name": "python",
   "nbconvert_exporter": "python",
   "pygments_lexer": "ipython3",
   "version": "3.9.12"
  }
 },
 "nbformat": 4,
 "nbformat_minor": 5
}
