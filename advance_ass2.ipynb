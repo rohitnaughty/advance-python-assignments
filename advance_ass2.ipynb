{
 "cells": [
  {
   "cell_type": "markdown",
   "id": "ca1e8d88-48b6-4c97-b3a4-7f5c58d378f0",
   "metadata": {},
   "source": [
    "Q1. What is the relationship between classes and modules?"
   ]
  },
  {
   "cell_type": "markdown",
   "id": "0227b91a-86f5-48e4-9229-4589f1fcaed9",
   "metadata": {},
   "source": [
    "Modules are about providing methods that you can use across multiple classes. Modules are about functions. You dont \n",
    "instantitate modules(e.g.Maths module) you just use methods in them.module is like library of methods.Classes are about\n",
    "objects it can hold its state (by keeping track of instance variables) and be duplicated as many times as you want."
   ]
  },
  {
   "cell_type": "markdown",
   "id": "ad0f07ce-af38-4646-bc29-9fb4358d4b09",
   "metadata": {},
   "source": [
    "Q2. How do you make instances and classes?"
   ]
  },
  {
   "cell_type": "markdown",
   "id": "2f466c00-6afb-43de-97cf-eb37545bb9f5",
   "metadata": {},
   "source": [
    "To create instances of a class, you call the class using class name and pass in whatever arguments lts init method \n",
    "accepts.\n",
    "\n",
    "The class statement creates a new class defination.The name of the class immediately follows the keyword class\n",
    "followed by a colon.\n",
    "Explained below:\n"
   ]
  },
  {
   "cell_type": "code",
   "execution_count": 1,
   "id": "ead2d9a2-86f2-46de-9f6a-abe3753e5de2",
   "metadata": {},
   "outputs": [
    {
     "name": "stdout",
     "output_type": "stream",
     "text": [
      "Thsi is Rohit Nautiyal(an instance of a class student)\n"
     ]
    }
   ],
   "source": [
    "class student:\n",
    "    def __init__(self,name):\n",
    "        self.name=name\n",
    "    def __str__(self):\n",
    "        return f\"Thsi is {self.name}(an instance of a class student)\"\n",
    "student1=student(\"Rohit Nautiyal\")\n",
    "print(student1)\n",
    "        "
   ]
  },
  {
   "cell_type": "markdown",
   "id": "df4f7848-06f7-4500-8dc8-fb87a5cd4231",
   "metadata": {},
   "source": [
    "Q3. Where and how should be class attributes created?"
   ]
  },
  {
   "cell_type": "code",
   "execution_count": null,
   "id": "2983837c-5d44-4d7a-8dc7-8406a5d1a136",
   "metadata": {},
   "outputs": [],
   "source": [
    "Class attributes belong to the class itself they will be shared by all the instances.Such attribues are defined in\n",
    "the class body parts usually at the top,for legibility.\n"
   ]
  },
  {
   "cell_type": "code",
   "execution_count": 12,
   "id": "04546e14-6391-42f5-8e40-2edb2a74cd3b",
   "metadata": {},
   "outputs": [
    {
     "name": "stdout",
     "output_type": "stream",
     "text": [
      "johnson\n"
     ]
    }
   ],
   "source": [
    "class student:\n",
    "    class_teacher=\"johnson\" #class attribute\n",
    "    \n",
    "    def __init__(self,name, roll_no):  # to bind attributes to class when object is created\n",
    "        self.name=name\n",
    "        self.roll_no=roll_no\n",
    "    def __str__(self):\n",
    "        return f\"This is {self.name}(an instance of a class student)\"\n",
    "student1=student(\"mohit nautiyal\",26)\n",
    "print(student.class_teacher)\n",
    "        "
   ]
  },
  {
   "cell_type": "code",
   "execution_count": 8,
   "id": "589f4ef4-b19a-4389-9147-aacd4df1f21f",
   "metadata": {},
   "outputs": [
    {
     "name": "stdout",
     "output_type": "stream",
     "text": [
      "Johnson\n"
     ]
    }
   ],
   "source": [
    "class Student:\n",
    "    class_teacher = 'Johnson' # class attribute\n",
    "    \n",
    "    def __init__(self,name, roll_no): # to bind attributes to class when object is created\n",
    "        self.name = name \n",
    "        self.roll_no = roll_no\n",
    "    \n",
    "    def __str__(self):\n",
    "        return f\"This is {self.name} (an instance of a class Student)\"\n",
    "    \n",
    "student1 = Student(\"Akash Deep\",25)  \n",
    "\n",
    "print(student1.class_teacher) "
   ]
  },
  {
   "cell_type": "markdown",
   "id": "20033afe-3344-4dfa-afc1-972a1d5e6fb8",
   "metadata": {},
   "source": [
    "Q4. Where and how are instance attributes created?"
   ]
  },
  {
   "cell_type": "markdown",
   "id": "6d557bc8-de7a-4afe-9fd6-9e8b964a3b48",
   "metadata": {},
   "source": [
    "Unlike class attributes, instance attributes are not shared by objects.Every object has its own copy of the instance\n",
    "attribute.They are created in init method.How they are created is Explained below:\n",
    "    "
   ]
  },
  {
   "cell_type": "code",
   "execution_count": 10,
   "id": "77ec54a1-4bb9-4795-b02e-69463d68884d",
   "metadata": {},
   "outputs": [
    {
     "name": "stdout",
     "output_type": "stream",
     "text": [
      "Rohit Nautiyal\n",
      "22\n"
     ]
    }
   ],
   "source": [
    "class student:\n",
    "    def __init__(self,name,roll_no):\n",
    "        self.name=name\n",
    "        self.roll_no=roll_no\n",
    "    def __str__(self):\n",
    "        return f\"This is {self.name}(an instance of a class student)\"\n",
    "student1=student(\"Rohit Nautiyal\",22)\n",
    "print(student1.name)\n",
    "print(student1.roll_no)"
   ]
  },
  {
   "cell_type": "markdown",
   "id": "763bead6-bb22-4096-8a23-a87af85fa9ed",
   "metadata": {},
   "source": [
    "Q5. What does the term 'self' in a Python class mean?"
   ]
  },
  {
   "cell_type": "markdown",
   "id": "295b3bce-b10a-40d1-84b7-519c2ef5e927",
   "metadata": {},
   "source": [
    "Self represents the instance of the class. By using the “self” keyword we can access the attributes and methods of the class in python. It binds the attributes with the given arguments.The reason you need to use self. is because Python does not use the @ syntax to refer to instance attributes. Python decided to do methods in a way that makes the instance to which the method belongs be passed automatically, but not received automatically: the first parameter of methods is the instance the method is called on."
   ]
  },
  {
   "cell_type": "markdown",
   "id": "0a8b79f9-857f-40bf-afb8-c0c5cf11a0f5",
   "metadata": {},
   "source": [
    "Q6. How does a Python class handle operator overloading?"
   ]
  },
  {
   "cell_type": "code",
   "execution_count": null,
   "id": "82436f24-65dd-4502-a7de-cd897bdb368f",
   "metadata": {},
   "outputs": [],
   "source": [
    "Operator Overloading means giving extended meaning beyond their predefined operational meaning. For example operator +\n",
    "is used to add two integers as well as join two strings and merge two lists.It is achievable because \"+\" opeator is \n",
    "overloaded by int class and str class."
   ]
  },
  {
   "cell_type": "code",
   "execution_count": 8,
   "id": "f01b8d85-5d73-4d18-b1f6-fc9f022d494e",
   "metadata": {},
   "outputs": [
    {
     "name": "stdout",
     "output_type": "stream",
     "text": [
      "3\n",
      "abcdefg\n",
      "39\n",
      "IneuronIneuronIneuronIneuron\n"
     ]
    }
   ],
   "source": [
    "# + and * operator is used for different purpose\n",
    "print(1+2)\n",
    "\n",
    "#concadenate two strings\n",
    "print(\"abcd\"+\"efg\")\n",
    "\n",
    "#Product two numbers\n",
    "print(13*3)\n",
    "\n",
    "#Repeat the string\n",
    "print(\"Ineuron\"*4)\n",
    "\n"
   ]
  },
  {
   "cell_type": "markdown",
   "id": "c8561cd4-8249-4f32-8e64-9d410f6a6709",
   "metadata": {},
   "source": [
    "Q7. When do you consider allowing operator overloading of your classes?"
   ]
  },
  {
   "cell_type": "markdown",
   "id": "ddf8574f-f250-4723-ae1b-fffa4418922d",
   "metadata": {},
   "source": [
    "let  us assume we have an object  called string1 which is a string object  as defined below.Now, when try to add a \n",
    "string to this string object, the compiler will throw an error.This is because the compiler doesn't know how to add\n",
    "them."
   ]
  },
  {
   "cell_type": "code",
   "execution_count": 4,
   "id": "904b3db6-a5f8-42e2-a2fd-0e14f045ae0e",
   "metadata": {},
   "outputs": [
    {
     "ename": "TypeError",
     "evalue": "unsupported operand type(s) for +: 'string' and 'str'",
     "output_type": "error",
     "traceback": [
      "\u001b[0;31m---------------------------------------------------------------------------\u001b[0m",
      "\u001b[0;31mTypeError\u001b[0m                                 Traceback (most recent call last)",
      "Input \u001b[0;32mIn [4]\u001b[0m, in \u001b[0;36m<cell line: 10>\u001b[0;34m()\u001b[0m\n\u001b[1;32m      7\u001b[0m string1\u001b[38;5;241m=\u001b[39mstring(\u001b[38;5;124m\"\u001b[39m\u001b[38;5;124mHello\u001b[39m\u001b[38;5;124m\"\u001b[39m)\n\u001b[1;32m      8\u001b[0m \u001b[38;5;66;03m# now concatinating string and string object\u001b[39;00m\n\u001b[1;32m      9\u001b[0m \u001b[38;5;66;03m#print(string1+\"world\")\u001b[39;00m\n\u001b[0;32m---> 10\u001b[0m \u001b[38;5;28mprint\u001b[39m(\u001b[43mstring1\u001b[49m\u001b[38;5;241;43m+\u001b[39;49m\u001b[38;5;124;43m\"\u001b[39;49m\u001b[38;5;124;43mworld\u001b[39;49m\u001b[38;5;124;43m\"\u001b[39;49m)\n",
      "\u001b[0;31mTypeError\u001b[0m: unsupported operand type(s) for +: 'string' and 'str'"
     ]
    }
   ],
   "source": [
    "#our own string class\n",
    "class string:\n",
    "    def __init__(self,string):\n",
    "        self.string=string\n",
    "    def __repr__(self):\n",
    "        return \"Object: {}\".format(self.string)\n",
    "string1=string(\"Hello\")\n",
    "# now concatinating string and string object\n",
    "#print(string1+\"world\")\n",
    "print(string1+\"world\")"
   ]
  },
  {
   "cell_type": "markdown",
   "id": "8a17920c-149b-433b-99b7-805b1a550169",
   "metadata": {},
   "source": [
    "This error can ne avoided by adding the add method to the string class.This way, we are overloading the +operator to\n",
    "concatenate a string object with a string."
   ]
  },
  {
   "cell_type": "code",
   "execution_count": 7,
   "id": "4a91c4e9-e975-4018-81aa-118741586cc1",
   "metadata": {},
   "outputs": [
    {
     "name": "stdout",
     "output_type": "stream",
     "text": [
      "Hello  world\n"
     ]
    }
   ],
   "source": [
    "#declare our own string class \n",
    "class string:\n",
    "    def __init__(self,string):\n",
    "        self.string=string\n",
    "    def __add__(self,other):\n",
    "        return self.string+other\n",
    "    def __repr__(self):\n",
    "        return \"Object: {}\".format(self.string)\n",
    "string1=string(\"Hello\")\n",
    "# concatenate string object and a string\n",
    "print(string1 + \"  world\")"
   ]
  },
  {
   "cell_type": "markdown",
   "id": "de787d09-16bf-4109-811b-30d07a403ec2",
   "metadata": {},
   "source": [
    "Q8. What is the most popular form of operator overloading?"
   ]
  },
  {
   "cell_type": "markdown",
   "id": "4283aad5-b6cc-4535-b605-ea301fa97217",
   "metadata": {},
   "source": [
    "I feel, most popular form of operator overloading is of addition (+) operator. When two integers are passed to + operator, it will return the sum of two integers. When two strings are passed to + operator, it will return concatenation of two strings."
   ]
  },
  {
   "cell_type": "markdown",
   "id": "af149858-ebd4-4625-bfd9-7a3e55f0080b",
   "metadata": {},
   "source": [
    "Q9. What are the two most important concepts to grasp in order to comprehend Python OOP code?"
   ]
  },
  {
   "cell_type": "markdown",
   "id": "a865484a-0445-4b9d-aa2d-79ee4860d10a",
   "metadata": {},
   "source": [
    "1. inheritance\n",
    "2. polymorphism"
   ]
  },
  {
   "cell_type": "raw",
   "id": "c785c24d-1f53-4a3d-8477-9783062079ef",
   "metadata": {},
   "source": []
  },
  {
   "cell_type": "code",
   "execution_count": null,
   "id": "b5ba1efa-01ef-455f-ac8a-471217bded5d",
   "metadata": {},
   "outputs": [],
   "source": []
  }
 ],
 "metadata": {
  "kernelspec": {
   "display_name": "Python 3 (ipykernel)",
   "language": "python",
   "name": "python3"
  },
  "language_info": {
   "codemirror_mode": {
    "name": "ipython",
    "version": 3
   },
   "file_extension": ".py",
   "mimetype": "text/x-python",
   "name": "python",
   "nbconvert_exporter": "python",
   "pygments_lexer": "ipython3",
   "version": "3.9.12"
  }
 },
 "nbformat": 4,
 "nbformat_minor": 5
}
