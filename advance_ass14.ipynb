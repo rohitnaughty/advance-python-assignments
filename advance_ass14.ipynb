{
 "cells": [
  {
   "cell_type": "markdown",
   "id": "38246bb8-55b0-4cf8-94d9-7a291acc49d3",
   "metadata": {},
   "source": [
    "Q1. Is an assignment operator like += only for show? Is it possible that it would lead to faster results\n",
    "at the runtime?\n",
    "\n"
   ]
  },
  {
   "cell_type": "markdown",
   "id": "7f752085-891e-44c5-985d-f0c8a53369b0",
   "metadata": {},
   "source": [
    "+= is faster and easy to write for us. runtime of a += 5 is slightly less than a= a+5 but, the difference is really\n",
    "minor."
   ]
  },
  {
   "cell_type": "markdown",
   "id": "0dff1059-f794-441d-a388-05a01a9c14ab",
   "metadata": {},
   "source": [
    "Q2. What is the smallest number of statements you'd have to write in most programming languages to\n",
    "replace the Python expression a, b = a + b, a?\n",
    "\n"
   ]
  },
  {
   "cell_type": "markdown",
   "id": "11a3fc33-12fb-4d42-80ac-2fa417e25334",
   "metadata": {},
   "source": [
    "Two"
   ]
  },
  {
   "cell_type": "markdown",
   "id": "300f33c2-5a62-4f7a-854d-fea0b06268bf",
   "metadata": {},
   "source": [
    "Q3. In Python, what is the most effective way to set a list of 100 integers to 0?\n",
    "\n"
   ]
  },
  {
   "cell_type": "code",
   "execution_count": 9,
   "id": "7b2bc9cf-77c1-4b39-86e1-06766b447fdf",
   "metadata": {},
   "outputs": [
    {
     "name": "stdout",
     "output_type": "stream",
     "text": [
      "[0, 0, 0, 0, 0, 0, 0, 0, 0, 0, 0, 0, 0, 0, 0, 0, 0, 0, 0, 0, 0, 0, 0, 0, 0, 0, 0, 0, 0, 0, 0, 0, 0, 0, 0, 0, 0, 0, 0, 0, 0, 0, 0, 0, 0, 0, 0, 0, 0, 0, 0, 0, 0, 0, 0, 0, 0, 0, 0, 0, 0, 0, 0, 0, 0, 0, 0, 0, 0, 0, 0, 0, 0, 0, 0, 0, 0, 0, 0, 0, 0, 0, 0, 0, 0, 0, 0, 0, 0, 0, 0, 0, 0, 0, 0, 0, 0, 0, 0, 0]\n"
     ]
    }
   ],
   "source": [
    "l=[0]*100\n",
    "print(l)"
   ]
  },
  {
   "cell_type": "markdown",
   "id": "fc0a2969-df16-44cb-be61-3bf8947d80da",
   "metadata": {},
   "source": [
    "Q4. What is the most effective way to initialise a list of 99 integers that repeats the sequence 1, 2, 3?\n",
    "S If necessary, show step-by-step instructions on how to accomplish this.\n",
    "\n"
   ]
  },
  {
   "cell_type": "code",
   "execution_count": 10,
   "id": "2fa3e05a-f0e3-48b2-a031-58bd60ce485e",
   "metadata": {},
   "outputs": [
    {
     "name": "stdout",
     "output_type": "stream",
     "text": [
      "[1, 2, 3, 1, 2, 3, 1, 2, 3, 1, 2, 3, 1, 2, 3, 1, 2, 3, 1, 2, 3, 1, 2, 3, 1, 2, 3, 1, 2, 3, 1, 2, 3, 1, 2, 3, 1, 2, 3, 1, 2, 3, 1, 2, 3, 1, 2, 3, 1, 2, 3, 1, 2, 3, 1, 2, 3, 1, 2, 3, 1, 2, 3, 1, 2, 3, 1, 2, 3, 1, 2, 3, 1, 2, 3, 1, 2, 3, 1, 2, 3, 1, 2, 3, 1, 2, 3, 1, 2, 3, 1, 2, 3, 1, 2, 3, 1, 2, 3]\n"
     ]
    }
   ],
   "source": [
    "l1=[1,2,3] #create a list containing 1,2,3\n",
    "count=int(101/len(l1))# repeat count\n",
    "l=l1*count #* operator is used to repeat the list\n",
    "print(l)"
   ]
  },
  {
   "cell_type": "markdown",
   "id": "6ddc3f4c-e68a-46c8-a565-c89b37651232",
   "metadata": {},
   "source": [
    "Q5. If you're using IDLE to run a Python application, explain how to print a multidimensional list as\n",
    "efficiently?\n",
    "\n"
   ]
  },
  {
   "cell_type": "raw",
   "id": "23bce198-7fcf-4375-ae98-ff2a1adaef2c",
   "metadata": {},
   "source": [
    "We can print multidimentional list by simply writing the name of the variable in a cell\n",
    "\n",
    "l = [[1,2,3,4],['A','B'],[5,6,7,8]]\n",
    "\n",
    "l"
   ]
  },
  {
   "cell_type": "code",
   "execution_count": 11,
   "id": "38cc4cc2-5658-4549-a559-c4a925a786a7",
   "metadata": {},
   "outputs": [
    {
     "data": {
      "text/plain": [
       "[[1, 2, 3, 4], ['A', 'B'], [5, 6, 7, 8]]"
      ]
     },
     "execution_count": 11,
     "metadata": {},
     "output_type": "execute_result"
    }
   ],
   "source": [
    "#We can print multidimentional list by simply writting the name of the variable in a cell\n",
    "\n",
    "l=[[1,2,3,4],[\"A\",\"B\"],[5,6,7,8]]\n",
    "\n",
    "l"
   ]
  },
  {
   "cell_type": "markdown",
   "id": "13fa3b5d-df35-4f03-8861-6909192acc1f",
   "metadata": {},
   "source": [
    "Q6. Is it possible to use list comprehension with a string? If so, how can you go about doing it?\n",
    "\n"
   ]
  },
  {
   "cell_type": "markdown",
   "id": "2245e5c2-30b9-4e66-916e-ab2a74be366b",
   "metadata": {},
   "source": [
    "Yes, it is possible as string is an iterable object. Explained below:\n"
   ]
  },
  {
   "cell_type": "code",
   "execution_count": 12,
   "id": "d1f1c9bd-537c-49cf-bb98-7e9724588576",
   "metadata": {},
   "outputs": [
    {
     "data": {
      "text/plain": [
       "['aa', 'kk', 'aa', 'ss', 'hh']"
      ]
     },
     "execution_count": 12,
     "metadata": {},
     "output_type": "execute_result"
    }
   ],
   "source": [
    "s=\"akash\"\n",
    "[i*2 for i in s]"
   ]
  },
  {
   "cell_type": "markdown",
   "id": "5fe89a2f-b60f-4334-a997-b3b80760f8d8",
   "metadata": {},
   "source": [
    "Q7. From the command line, how do you get support with a user-written Python programme? Is this\n",
    "possible from inside IDLE?\n",
    "\n"
   ]
  },
  {
   "cell_type": "markdown",
   "id": "64be69b9-6806-42a1-84fd-b249c3e0816e",
   "metadata": {},
   "source": [
    "Steps for command line:\n",
    "\n",
    "    1. Open command prompt.\n",
    "    2. Go to directory containing python program file(.py)\n",
    "    3. Type \"python file_name.py\", press enter to run the file.\n",
    "Steps for python IDLE:\n",
    "\n",
    "    1.Open python IDLE.\n",
    "    2.Click on file>open>file_name.py\n",
    "    3.Press F5 key to run the program "
   ]
  },
  {
   "cell_type": "markdown",
   "id": "8efe6422-694f-492d-842a-f7bb7922512a",
   "metadata": {},
   "source": [
    "Q8. Functions are said to be “first-class objects” in Python but not in most other languages, such as\n",
    "C++ or Java. What can you do in Python with a function (callable object) that you can't do in C or\n",
    "C++?\n",
    "\n"
   ]
  },
  {
   "cell_type": "markdown",
   "id": "f3747394-4a9f-4100-9c27-6165d7ab3304",
   "metadata": {},
   "source": [
    "In python,functions are like any other object,such as an int or a list. That means that you can use functions as \n",
    "arguments to other functions, store functions as dictionary values, or return a function from another function.This \n",
    "leads to many powerful ways to use functions."
   ]
  },
  {
   "cell_type": "markdown",
   "id": "6dd51c53-973f-413b-a57a-afbbdfbefb36",
   "metadata": {},
   "source": [
    "Q9. How do you distinguish between a wrapper, a wrapped feature, and a decorator?\n",
    "\n"
   ]
  },
  {
   "cell_type": "markdown",
   "id": "2663117d-c7ad-4e4c-a869-3ff38a96ecf3",
   "metadata": {},
   "source": [
    "A wrapper, a wrapped feature, and a decorator are all same.They can be through of as functions which modify the \n",
    "functionality of another function.They help to make your code shorter and more \"Pythonic\""
   ]
  },
  {
   "cell_type": "markdown",
   "id": "abfc2204-16e4-4bad-bcfb-2ab5ec470d70",
   "metadata": {},
   "source": [
    "Q10. If a function is a generator function, what does it return?\n",
    "\n"
   ]
  },
  {
   "cell_type": "markdown",
   "id": "8eb60cf1-bda9-409c-bb47-e961261caa0b",
   "metadata": {},
   "source": [
    "If a function is a generator function,it does not return any values, instead,it return an iterator object,which we\n",
    "can iterate through to get values"
   ]
  },
  {
   "cell_type": "markdown",
   "id": "c443e727-2720-4459-83d3-fabea5eb2843",
   "metadata": {},
   "source": [
    "Q11. What is the one improvement that must be made to a function in order for it to become a\n",
    "generator function in the Python language?\n",
    "\n"
   ]
  },
  {
   "cell_type": "code",
   "execution_count": 8,
   "id": "e2350f99-fa9f-4961-975b-b49302a41f1f",
   "metadata": {},
   "outputs": [
    {
     "name": "stdout",
     "output_type": "stream",
     "text": [
      "0\n",
      "2\n",
      "4\n",
      "6\n",
      "8\n"
     ]
    }
   ],
   "source": [
    "#We can use \"yield\" keyword instead of \"return\" to make function a generator.\n",
    "def even_nos(n):\n",
    "    for i in range(n):\n",
    "        if i%2==0:\n",
    "            yield i\n",
    "for i in even_nos(10):\n",
    "    print(i)"
   ]
  },
  {
   "cell_type": "markdown",
   "id": "eab99003-d531-4b07-a18d-bc0237acd613",
   "metadata": {},
   "source": [
    "Q12. Identify at least one benefit of generators."
   ]
  },
  {
   "cell_type": "markdown",
   "id": "6973c212-00af-4c77-9bae-593fbe5fde56",
   "metadata": {},
   "source": [
    "The main advantage here is that instead of having to compute an entire series of values up front, the generator \n",
    "computes one value and then suspends its acivity awaiting the next instruction. This feature is known as state \n",
    "suspention.\n",
    "Generators are memory efficient."
   ]
  },
  {
   "cell_type": "code",
   "execution_count": null,
   "id": "1205aa5f-fe9b-43dc-8662-8b1826cf50b1",
   "metadata": {},
   "outputs": [],
   "source": []
  }
 ],
 "metadata": {
  "kernelspec": {
   "display_name": "Python 3 (ipykernel)",
   "language": "python",
   "name": "python3"
  },
  "language_info": {
   "codemirror_mode": {
    "name": "ipython",
    "version": 3
   },
   "file_extension": ".py",
   "mimetype": "text/x-python",
   "name": "python",
   "nbconvert_exporter": "python",
   "pygments_lexer": "ipython3",
   "version": "3.9.12"
  }
 },
 "nbformat": 4,
 "nbformat_minor": 5
}
