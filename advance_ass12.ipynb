{
 "cells": [
  {
   "cell_type": "markdown",
   "id": "84f21ee0-14c1-4ef1-826b-30d6dcc3d096",
   "metadata": {},
   "source": [
    "Q1. Does assigning a value to a string's indexed character violate Python's string immutability?\n",
    "\n"
   ]
  },
  {
   "cell_type": "markdown",
   "id": "adee2829-9b8b-43c0-9d6a-1a43fbaef927",
   "metadata": {},
   "source": [
    "Yes. It is because of string immutability that means we can change the characters in strings by assigning new \n",
    "values to indexes."
   ]
  },
  {
   "cell_type": "markdown",
   "id": "4133e56e-7617-4bcc-8a1e-9c85c7fa7c02",
   "metadata": {},
   "source": [
    "Q2. Does using the += operator to concatenate strings violate Python's string immutability? Why or\n",
    "why not?\n",
    "\n"
   ]
  },
  {
   "cell_type": "markdown",
   "id": "8377719b-a3a1-40f1-a66b-7c94644de8e0",
   "metadata": {},
   "source": [
    "No. When we concatenate string, we assign new value to the same string variable. We are not altering string based on the indexes, so it won't violate Python's string immutability"
   ]
  },
  {
   "cell_type": "markdown",
   "id": "92ae6850-b6c0-46ff-bb47-b88084873ca5",
   "metadata": {},
   "source": [
    "No.When we concontrate string, we assign new value to the same string variable.We are not altering string based on\n",
    "the indexes, so it won't violate Python's strings immutability"
   ]
  },
  {
   "cell_type": "markdown",
   "id": "d2c79695-7cfd-4a61-b491-ed29ed50d16e",
   "metadata": {},
   "source": [
    "Q3. In Python, how many different ways are there to index a character?\n",
    "\n"
   ]
  },
  {
   "cell_type": "markdown",
   "id": "8c6bf79e-be90-4853-bf58-0eeb08c6d0e5",
   "metadata": {},
   "source": [
    "There are two methods for this, find() and index() both will return the lowest index at which char is found."
   ]
  },
  {
   "cell_type": "markdown",
   "id": "6291c25a-2d3e-4d1a-aa18-d51001a8edbc",
   "metadata": {},
   "source": [
    "Q4. What is the relationship between indexing and slicing?\n",
    "\n"
   ]
  },
  {
   "cell_type": "markdown",
   "id": "7a201e30-470a-4e66-84f4-23c1e3cecc32",
   "metadata": {},
   "source": [
    "Indexing is a way to access an element of a string by its position or index. Slicing is accessing only part of a string \n",
    "and not a full string . String slicing is done by using index."
   ]
  },
  {
   "cell_type": "code",
   "execution_count": 6,
   "id": "b91de7c5-708d-4ee1-9798-1621d6a1e228",
   "metadata": {},
   "outputs": [
    {
     "name": "stdout",
     "output_type": "stream",
     "text": [
      "ohi\n",
      "layituaNti\n"
     ]
    }
   ],
   "source": [
    "s=\"RohitNautiyal\"\n",
    "print(s[1:4])\n",
    "print(s[-1:2:-1])"
   ]
  },
  {
   "cell_type": "markdown",
   "id": "f8468c01-5a93-4ed4-8736-7e36fb4cb1ce",
   "metadata": {},
   "source": [
    "Q5. What is an indexed character's exact data type? What is the data form of a slicing-generated\n",
    "substring?\n",
    "\n"
   ]
  },
  {
   "cell_type": "markdown",
   "id": "ec0d002f-173c-45f1-acd8-ea68d1d30290",
   "metadata": {},
   "source": [
    "for both cases,it is \"str\" type."
   ]
  },
  {
   "cell_type": "markdown",
   "id": "abcb7d38-5a80-493c-b35c-659bf99a5a8b",
   "metadata": {},
   "source": [
    "Q6. What is the relationship between string and character 'types' in Python?\n",
    "\n"
   ]
  },
  {
   "cell_type": "markdown",
   "id": "7b085487-3d3f-480b-813e-e92b0d7032d9",
   "metadata": {},
   "source": [
    "In Python, There is no char data type,even a single character enclosed in double quotes is considered as str."
   ]
  },
  {
   "cell_type": "markdown",
   "id": "c845664d-1866-4b26-a648-947b8bfc5582",
   "metadata": {},
   "source": [
    "Q7. Identify at least two operators and one method that allow you to combine one or more smaller\n",
    "strings to create a larger string.\n",
    "\n"
   ]
  },
  {
   "cell_type": "markdown",
   "id": "9397549a-9efe-431f-99cd-6cd51627cc5f",
   "metadata": {},
   "source": [
    "\"+\"will concatenate two strings and\"*\"will repeat the string number of times mentioned.We can also use join()method for \n",
    "getting a larger string."
   ]
  },
  {
   "cell_type": "code",
   "execution_count": 7,
   "id": "268109cd-43e6-490d-9e96-97775827e5c2",
   "metadata": {},
   "outputs": [
    {
     "name": "stdout",
     "output_type": "stream",
     "text": [
      "Hello!How are you?\n",
      "RainRainRainRain\n",
      "Howareyou?\n"
     ]
    }
   ],
   "source": [
    "print(\"Hello!\"+\"How are you?\")\n",
    "print(\"Rain\"*4)\n",
    "I=[\"How\",\"are\",\"you?\"]\n",
    "s=\"\".join(I)\n",
    "print(s)"
   ]
  },
  {
   "cell_type": "markdown",
   "id": "3923addf-f5fe-44ba-bfd8-44087608d8eb",
   "metadata": {},
   "source": [
    "Q8. What is the benefit of first checking the target string with in or not in before using the index\n",
    "method to find a substring?\n",
    "\n"
   ]
  },
  {
   "cell_type": "markdown",
   "id": "b553bed2-c35f-4ce2-af3d-1ac020005a0c",
   "metadata": {},
   "source": [
    "Normally,When we use index() method it will return the staring index of a substring,if substring is present in a string.\n",
    "But the major concern is if a substring is not present in a string,index() will return a Valueerror.To avoid this,we can \n",
    "first check the target string with in or not in before using the index method to find a substring."
   ]
  },
  {
   "cell_type": "code",
   "execution_count": 9,
   "id": "cc530434-5d96-4183-9ed3-3704a6e5a5fc",
   "metadata": {},
   "outputs": [
    {
     "ename": "ValueError",
     "evalue": "substring not found",
     "output_type": "error",
     "traceback": [
      "\u001b[0;31m---------------------------------------------------------------------------\u001b[0m",
      "\u001b[0;31mValueError\u001b[0m                                Traceback (most recent call last)",
      "Input \u001b[0;32mIn [9]\u001b[0m, in \u001b[0;36m<cell line: 5>\u001b[0;34m()\u001b[0m\n\u001b[1;32m      3\u001b[0m \u001b[38;5;28;01mif\u001b[39;00m s1 \u001b[38;5;129;01min\u001b[39;00m s:\n\u001b[1;32m      4\u001b[0m     \u001b[38;5;28mprint\u001b[39m(s\u001b[38;5;241m.\u001b[39mindex(s1))\n\u001b[0;32m----> 5\u001b[0m \u001b[43ms\u001b[49m\u001b[38;5;241;43m.\u001b[39;49m\u001b[43mindex\u001b[49m\u001b[43m(\u001b[49m\u001b[43ms1\u001b[49m\u001b[43m)\u001b[49m\n",
      "\u001b[0;31mValueError\u001b[0m: substring not found"
     ]
    }
   ],
   "source": [
    "s=\"abcdefghijk\"\n",
    "s1=\"xyz\"\n",
    "if s1 in s:\n",
    "    print(s.index(s1))\n",
    "s.index(s1)\n"
   ]
  },
  {
   "cell_type": "markdown",
   "id": "4246f618-5ef9-4c02-9f50-9600b3ffb96e",
   "metadata": {},
   "source": [
    "Q9. Which operators and built-in string methods produce simple Boolean (true/false) results?"
   ]
  },
  {
   "cell_type": "markdown",
   "id": "ac875906-a390-495f-9346-aa1300dc4bd4",
   "metadata": {},
   "source": [
    "Operators:\n",
    "\n",
    "    1. Comparison operators : (== ,!= ,< ,> ,<=, >=) \n",
    "    2. Logical Operators : (and, or, not)\n",
    "    3. Identity Operators : (is , is not)\n",
    "    4. Membership Operators : (in, not in)\n",
    "\n",
    "String methods:\n",
    "\n",
    "    1. endswith() : Returns true if the string ends with the specified value \n",
    "    2. isalnum()    Returns True if all characters in the string are alphanumeric        \n",
    "    3. isalpha()    Returns True if all characters in the string are in the alphabet        \n",
    "    4. isdecimal()  Returns True if all characters in the string are decimals       \n",
    "    5. isdigit()    Returns True if all characters in the string are digits        \n",
    "    6. isidentifier()   Returns True if the string is an identifier        \n",
    "    7. islower()    Returns True if all characters in the string are lower case        \n",
    "    8. isnumeric()  Returns True if all characters in the string are numeric        \n",
    "    9. isprintable()    Returns True if all characters in the string are printable        \n",
    "    10. isspace()   Returns True if all characters in the string are whitespaces        \n",
    "    11. istitle()   Returns True if the string follows the rules of a title        \n",
    "    12. isupper()   Returns True if all characters in the string are upper case"
   ]
  }
 ],
 "metadata": {
  "kernelspec": {
   "display_name": "Python 3 (ipykernel)",
   "language": "python",
   "name": "python3"
  },
  "language_info": {
   "codemirror_mode": {
    "name": "ipython",
    "version": 3
   },
   "file_extension": ".py",
   "mimetype": "text/x-python",
   "name": "python",
   "nbconvert_exporter": "python",
   "pygments_lexer": "ipython3",
   "version": "3.9.12"
  }
 },
 "nbformat": 4,
 "nbformat_minor": 5
}
