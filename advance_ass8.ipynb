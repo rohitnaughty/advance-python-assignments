{
 "cells": [
  {
   "cell_type": "markdown",
   "id": "f21a94cd-8c6f-4f2c-9c8c-af04e2eff683",
   "metadata": {},
   "source": [
    "Q1. What are the two latest user-defined exception constraints in Python 3.X?\n",
    "\n"
   ]
  },
  {
   "cell_type": "raw",
   "id": "67100fdb-a664-4fda-b703-3721c3c1b5ed",
   "metadata": {},
   "source": [
    "1.raise statement -This is used to raise an inbulid expcetation explicitly.\n",
    "\n",
    "2.assert statement -When condition in assert statement is true, program is executed normally.When condition is false,\n",
    " program gives an AssertionError."
   ]
  },
  {
   "cell_type": "markdown",
   "id": "0a47a25c-c40c-40cb-9cb0-73a2ece2225a",
   "metadata": {},
   "source": [
    "Q2. How are class-based exceptions that have been raised matched to handlers?\n",
    "\n"
   ]
  },
  {
   "cell_type": "code",
   "execution_count": null,
   "id": "b72a6eae-10f2-4897-85f9-ae9de9077a92",
   "metadata": {},
   "outputs": [],
   "source": [
    "When exceptions are raised, then the exception is handled by same mentioned in except statement or its base classes.\n",
    "\"Exception\" is the base class(superclass) for all other exception classes."
   ]
  },
  {
   "cell_type": "markdown",
   "id": "bcbe28f4-de3d-477b-be54-cc9d0a3c8300",
   "metadata": {},
   "source": [
    "Q3. Describe two methods for attaching context information to exception artefacts.\n",
    "\n"
   ]
  },
  {
   "cell_type": "raw",
   "id": "67e0c1e6-7f80-470c-956c-73231cdb99ff",
   "metadata": {},
   "source": [
    "By using logging.exception() method, we can log log messages with ERROR on the logger. I will store the \n",
    "information like type of error, line number,file name and path.\n",
    "By using raise keyword.It will alse display Traceback of the recent exception raised.\n"
   ]
  },
  {
   "cell_type": "code",
   "execution_count": 4,
   "id": "ce67264f-28c2-42e7-aa7b-83e1f8da2a82",
   "metadata": {},
   "outputs": [
    {
     "name": "stderr",
     "output_type": "stream",
     "text": [
      "ERROR:root:division by zero\n",
      "Traceback (most recent call last):\n",
      "  File \"/tmp/ipykernel_179/3661641965.py\", line 3, in <cell line: 2>\n",
      "    4/0\n",
      "ZeroDivisionError: division by zero\n"
     ]
    },
    {
     "ename": "ZeroDivisionError",
     "evalue": "division by zero",
     "output_type": "error",
     "traceback": [
      "\u001b[0;31m---------------------------------------------------------------------------\u001b[0m",
      "\u001b[0;31mZeroDivisionError\u001b[0m                         Traceback (most recent call last)",
      "Input \u001b[0;32mIn [4]\u001b[0m, in \u001b[0;36m<cell line: 2>\u001b[0;34m()\u001b[0m\n\u001b[1;32m      1\u001b[0m \u001b[38;5;28;01mimport\u001b[39;00m \u001b[38;5;21;01mlogging\u001b[39;00m \n\u001b[1;32m      2\u001b[0m \u001b[38;5;28;01mtry\u001b[39;00m:\n\u001b[0;32m----> 3\u001b[0m     \u001b[38;5;241;43m4\u001b[39;49m\u001b[38;5;241;43m/\u001b[39;49m\u001b[38;5;241;43m0\u001b[39;49m\n\u001b[1;32m      4\u001b[0m \u001b[38;5;28;01mexcept\u001b[39;00m \u001b[38;5;167;01mException\u001b[39;00m \u001b[38;5;28;01mas\u001b[39;00m e:\n\u001b[1;32m      5\u001b[0m     logging\u001b[38;5;241m.\u001b[39mexception(e)\n",
      "\u001b[0;31mZeroDivisionError\u001b[0m: division by zero"
     ]
    }
   ],
   "source": [
    "import logging \n",
    "try:\n",
    "    4/0\n",
    "except Exception as e:\n",
    "    logging.exception(e)\n",
    "    raise\n",
    "    "
   ]
  },
  {
   "cell_type": "markdown",
   "id": "ad8e3e9e-8435-412c-a32c-0d217b1c120d",
   "metadata": {},
   "source": [
    "Q4. Describe two methods for specifying the text of an exception object&#39;s error message.\n",
    "\n"
   ]
  },
  {
   "cell_type": "code",
   "execution_count": null,
   "id": "e24aa00b-e955-4b52-bfda-2635ab1f31c4",
   "metadata": {},
   "outputs": [],
   "source": [
    "We can print the text of an exception, by using the object of a Exception class.We can access different attributes\n",
    "like message, args, traceback from that object.\n",
    "By using logging.error() method"
   ]
  },
  {
   "cell_type": "code",
   "execution_count": 5,
   "id": "ff4496c1-024d-4498-8b75-616a54005db2",
   "metadata": {},
   "outputs": [
    {
     "name": "stdout",
     "output_type": "stream",
     "text": [
      "can only concatenate str (not \"int\") to str\n"
     ]
    }
   ],
   "source": [
    "try:\n",
    "    a=\"abc\"\n",
    "    b=2\n",
    "    c=a+b\n",
    "except TypeError as e:\n",
    "    print(e)"
   ]
  },
  {
   "cell_type": "code",
   "execution_count": 7,
   "id": "5c2ec98f-1f30-4fe7-af04-82d552c01ec6",
   "metadata": {},
   "outputs": [
    {
     "name": "stderr",
     "output_type": "stream",
     "text": [
      "ERROR:root:[Errno 2] No such file or directory: 'two.txt'\n"
     ]
    }
   ],
   "source": [
    "try:\n",
    "    open(\"two.txt\")\n",
    "    file=open(\"two.txt\",\"r\")\n",
    "except Exception as e:\n",
    "    logging.error(e)"
   ]
  },
  {
   "cell_type": "markdown",
   "id": "2734b19f-a2a7-40be-9e0d-103b2b37f094",
   "metadata": {},
   "source": [
    "Q5. Why do you no longer use string-based exceptions?"
   ]
  },
  {
   "cell_type": "raw",
   "id": "df306616-9107-4557-b260-871d5d5c04c2",
   "metadata": {},
   "source": [
    "In python version 1.5 and earlier, Exceptions were strings and not classes. Now all exceptions are classes, derived \n",
    "from the superclass BaseException.With classes it is more efficiently handled as classes have many useful feature."
   ]
  },
  {
   "cell_type": "code",
   "execution_count": null,
   "id": "39fe31ca-4bd0-4bdd-967b-33d5f9973c6e",
   "metadata": {},
   "outputs": [],
   "source": []
  }
 ],
 "metadata": {
  "kernelspec": {
   "display_name": "Python 3 (ipykernel)",
   "language": "python",
   "name": "python3"
  },
  "language_info": {
   "codemirror_mode": {
    "name": "ipython",
    "version": 3
   },
   "file_extension": ".py",
   "mimetype": "text/x-python",
   "name": "python",
   "nbconvert_exporter": "python",
   "pygments_lexer": "ipython3",
   "version": "3.9.12"
  }
 },
 "nbformat": 4,
 "nbformat_minor": 5
}
