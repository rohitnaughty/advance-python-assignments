{
 "cells": [
  {
   "cell_type": "markdown",
   "id": "ca16c654-8030-4645-ac06-17474c50be09",
   "metadata": {},
   "source": [
    "Q1. If you have any, what are your choices for increasing the comparison between different figures on\n",
    "the same graph?\n",
    "\n"
   ]
  },
  {
   "cell_type": "markdown",
   "id": "ded39f3f-55b6-4787-9afd-a0941961f314",
   "metadata": {},
   "source": [
    "Matplotlib provides a conveniet method called subplots for increase the comparison between different figures on the same graph.\n",
    "Subplots means a group of smaller axes( Where each axis is a plot) that can exist together within a single figure."
   ]
  },
  {
   "cell_type": "markdown",
   "id": "d7891383-4dd9-42bc-ac87-52261f835952",
   "metadata": {},
   "source": [
    "Q2. Can you explain the benefit of compound interest over a higher rate of interest that does not\n",
    "compound after reading this chapter?\n",
    "\n"
   ]
  },
  {
   "cell_type": "markdown",
   "id": "a856c55c-0462-4bdb-b056-39b809ebf87a",
   "metadata": {},
   "source": [
    "Compound intrest makes a sum of money grow at a faster rate than simple intrest, because in addition to earning returns on the money \n",
    "you invest, you also earn returns on those returns at the end of every compounding period, which could be dairly, monthly,quarterly or \n",
    "annually."
   ]
  },
  {
   "cell_type": "markdown",
   "id": "ff2ecb8a-c3fd-4498-8c39-3f7d11f0b009",
   "metadata": {},
   "source": [
    "Q3. What is a histogram, exactly? Name a numpy method for creating such a graph.\n",
    "\n"
   ]
  },
  {
   "cell_type": "markdown",
   "id": "e7b6518e-f9b5-4ef3-bb2d-481f0e314732",
   "metadata": {},
   "source": [
    "Histogram shows total values of X wrt Y,Which means at any particular position of X,Y value shows the total number of counts or data\n",
    "below that value of X.numpy.histogram() is the build in function used."
   ]
  },
  {
   "cell_type": "markdown",
   "id": "e0d39bd8-c3eb-4393-9a50-0102a39ad107",
   "metadata": {},
   "source": [
    "Q4. If necessary, how do you change the aspect ratios between the X and Y axes?\n",
    "\n"
   ]
  },
  {
   "cell_type": "markdown",
   "id": "708fb3d5-662d-45fc-b5e6-6b1a405edf64",
   "metadata": {},
   "source": [
    "We can use figure(figsize=(10,8)) function inside the matplot.ptplot library which we scale down or up the graph."
   ]
  },
  {
   "cell_type": "markdown",
   "id": "a109481d-16a4-42f1-a429-261018544cf1",
   "metadata": {},
   "source": [
    "Q5. Compare and contrast the three types of array multiplication between two numpy arrays: dot\n",
    "product, outer product, and regular multiplication of two numpy arrays.\n",
    "\n"
   ]
  },
  {
   "cell_type": "markdown",
   "id": "801922bc-0842-4688-bbbe-a88c5d9f8444",
   "metadata": {},
   "source": [
    "In regular multiplication value of same index get multiplied.\n",
    "\n",
    "In dot product there is row wise multiplication,row of one array with column of second array and so on.\n",
    "In outer multiplication every element of first array a1 will be multiply be every element of other array a2 such the number of columns\n",
    "will be equal to the number of elements in another array a2."
   ]
  },
  {
   "cell_type": "markdown",
   "id": "0e7a10a4-2d1d-4170-9224-7c966189d942",
   "metadata": {},
   "source": [
    "Q6. Before you buy a home, which numpy function will you use to measure your monthly mortgage\n",
    "payment?\n",
    "\n"
   ]
  },
  {
   "cell_type": "markdown",
   "id": "c56ff3ef-5864-42be-85ab-5c57a6105390",
   "metadata": {},
   "source": [
    "np.pmt(rate,nper,pv) function we will be using in order to caluculate monthly mortgage payments before you purchase a house.\n",
    "\n",
    "rate=The periodic intrest rate \n",
    "\n",
    "nper=the number of payment periods\n",
    "\n",
    "pv=The total value of the mortgage loan"
   ]
  },
  {
   "cell_type": "markdown",
   "id": "3a3b2bff-74c1-41c4-bc69-a9776154fce6",
   "metadata": {},
   "source": [
    "Q7. Can string data be stored in numpy arrays? If so, list at least one restriction that applies to this\n",
    "data."
   ]
  },
  {
   "cell_type": "markdown",
   "id": "df8ca55e-8dd7-447b-8c39-1cfedabab22c",
   "metadata": {},
   "source": [
    "Yes , an array can store the string.The limitation which imposed on the string data is, Whenever we store the data of string dtype then\n",
    "it should should keep in mind that the string which is having the maximum length is the limit."
   ]
  },
  {
   "cell_type": "code",
   "execution_count": null,
   "id": "43ea9e49-337d-4193-9915-8eb63e50de6d",
   "metadata": {},
   "outputs": [],
   "source": []
  }
 ],
 "metadata": {
  "kernelspec": {
   "display_name": "Python 3 (ipykernel)",
   "language": "python",
   "name": "python3"
  },
  "language_info": {
   "codemirror_mode": {
    "name": "ipython",
    "version": 3
   },
   "file_extension": ".py",
   "mimetype": "text/x-python",
   "name": "python",
   "nbconvert_exporter": "python",
   "pygments_lexer": "ipython3",
   "version": "3.9.12"
  }
 },
 "nbformat": 4,
 "nbformat_minor": 5
}
