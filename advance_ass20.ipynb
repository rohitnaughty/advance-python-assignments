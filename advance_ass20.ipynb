{
 "cells": [
  {
   "cell_type": "markdown",
   "id": "4976635e-fc53-4cbd-9eb9-d187296411d9",
   "metadata": {},
   "source": [
    "1. Compare and contrast the float and Decimal classes' benefits and drawbacks.\n",
    "\n"
   ]
  },
  {
   "cell_type": "code",
   "execution_count": 3,
   "id": "5c311fe6-e2ce-4a7b-bb6c-f0898fa530df",
   "metadata": {},
   "outputs": [
    {
     "name": "stdout",
     "output_type": "stream",
     "text": [
      "<class 'float'>\n",
      "0.44999999999999996\n",
      "(1, 2)\n",
      "(3152519739159347, 9007199254740992)\n",
      "Context(prec=28, rounding=ROUND_HALF_EVEN, Emin=-999999, Emax=999999, capitals=1, clamp=0, flags=[], traps=[InvalidOperation, DivisionByZero, Overflow])\n",
      "d= 0.01818181818181818181818181818\n",
      "e= 0.018182\n"
     ]
    }
   ],
   "source": [
    "# Example of float value\n",
    "a = 0.35\n",
    "print(type(a))\n",
    "#       Float objects like this one are always represented internally up to a certain degree of accuracy only.\n",
    "#       This becomes evident when adding 0.1 to a:\n",
    "print(a+0.1)\n",
    "#       The reason for this is that floats are internally represented in binary format;\n",
    "#       that is, a decimal number 0 < n < 1 is represented by a series of the form . \n",
    "#       For certain floating-point numbers the binary representation might involve a large number \n",
    "#       of elements or might even be an infinite series. However, given a fixed number of bits used \n",
    "#       to represent such a number—i.e., a fixed number of terms in the representation \n",
    "#       series—inaccuracies are the consequence. Other numbers can be represented perfectly \n",
    "#       and are therefore stored exactly even with a finite number of bits available. \n",
    "#       Example is  :\n",
    "b=0.5 \n",
    "print(b.as_integer_ratio()) #i.e. 0.5 is exactly represented as 1/2\n",
    "#       incase of b=0.35\n",
    "b=0.35\n",
    "print(b.as_integer_ratio()) # Here teh b=0.35 is not exact\n",
    "#       The precision is dependent on the number of bits used to represent the number. \n",
    "#       Hence some error can creep in. It translates 15 digits accuracy for float.\n",
    "#       For example, the issue can be of importance when summing over a large set of numbers. \n",
    "#       In such a situation, a certain kind and/or magnitude of representation error might, \n",
    "#       in aggregate, lead to significant deviations from a benchmark value.\n",
    "#       In order to overcome this we use the decimal module.\n",
    "#       The module decimal provides an arbitrary-precision object for floating-point numbers \n",
    "#       and several options to address precision issues when working with such numbers:\n",
    "import decimal\n",
    "from decimal import Decimal\n",
    "print(decimal.getcontext())\n",
    "d = Decimal(1) / Decimal (55)\n",
    "print(\"d=\",d)\n",
    "decimal.getcontext().prec = 5  # lower precision \n",
    "e=Decimal(1)/Decimal(55)\n",
    "print(\"e=\",e)\n",
    "#       The precision can in this way be adjusted to the exact problem at hand and one can operate\n",
    "#       with floating-point objects that exhibit different degrees of accuracy."
   ]
  },
  {
   "cell_type": "markdown",
   "id": "e7153dfd-00d8-4f3e-a80c-7527df543fd5",
   "metadata": {},
   "source": [
    "2. Decimal(\"1.200\") and Decimal(\"1.2\") are two objects to consider. In what sense are these the same\n",
    "object? Are these just two ways of representing the exact same value, or do they correspond to\n",
    "different internal states?\n",
    "\n"
   ]
  },
  {
   "cell_type": "code",
   "execution_count": 4,
   "id": "488ca5b5-6024-4dc7-b6ef-78d5679826a3",
   "metadata": {},
   "outputs": [
    {
     "name": "stdout",
     "output_type": "stream",
     "text": [
      "1.200\n",
      "1.2\n"
     ]
    }
   ],
   "source": [
    "# Though they are indentical value wise,internal representation or internal state of these two \n",
    "#   values are different, as they have  decimal  value of different precissions.\n",
    "print(Decimal(\"1.200\"))\n",
    "print(Decimal(\"1.2\"))"
   ]
  },
  {
   "cell_type": "markdown",
   "id": "9920a6ae-79b5-42bc-9772-99f5c74d583b",
   "metadata": {},
   "source": [
    "3. What happens if the equality of Decimal(\"1.200\") and Decimal(\"1.2\") is checked?\n",
    "\n"
   ]
  },
  {
   "cell_type": "code",
   "execution_count": 5,
   "id": "a29cdd5c-f1d3-4404-9ffd-9d3ad241ef1c",
   "metadata": {},
   "outputs": [
    {
     "name": "stdout",
     "output_type": "stream",
     "text": [
      "True\n"
     ]
    }
   ],
   "source": [
    "#It returns that the values are stored as True.\n",
    "print(Decimal(\"1.200\")==Decimal(\"1.2\"))"
   ]
  },
  {
   "cell_type": "markdown",
   "id": "3a16d492-2b5c-4db5-9e15-fe253ea585db",
   "metadata": {},
   "source": [
    "4. Why is it preferable to start a Decimal object with a string rather than a floating-point value?\n",
    "\n"
   ]
  },
  {
   "cell_type": "markdown",
   "id": "5e8ea6f9-86c8-4388-b8e6-09bca94374b0",
   "metadata": {},
   "source": [
    "Floating-point value is converted to decimal format.Decimal can store float value with absolute \n",
    "precision.But when float value is given as Decimal object.it first has to be converted from\n",
    "floating point value which as Decimal objects with a string.\n",
    "\n",
    "Example is as follows:\n"
   ]
  },
  {
   "cell_type": "code",
   "execution_count": 6,
   "id": "b06b4902-1211-4497-98b8-cfc6b30b1538",
   "metadata": {},
   "outputs": [
    {
     "name": "stdout",
     "output_type": "stream",
     "text": [
      "0.299999999999999988897769753748434595763683319091796875\n",
      "0.3\n"
     ]
    }
   ],
   "source": [
    "import decimal \n",
    "from decimal import Decimal\n",
    "a=Decimal(0.3) #0.3 is a float \n",
    "print(a)#It is not stared exactly as 0.3 but as printed .\n",
    "b=Decimal(\"0.3\")#\"0.3\" is a string \n",
    "print(b) #It exactly prints 0.3,precicely,with correct precision."
   ]
  },
  {
   "cell_type": "markdown",
   "id": "f599cba4-f30d-4b1f-808c-9c5343b239bc",
   "metadata": {},
   "source": [
    "5. In an arithmetic phrase, how simple is it to combine Decimal objects with integers?\n",
    "\n"
   ]
  },
  {
   "cell_type": "code",
   "execution_count": 8,
   "id": "9c800788-8f73-475f-850a-69cbd5cc3632",
   "metadata": {},
   "outputs": [
    {
     "name": "stdout",
     "output_type": "stream",
     "text": [
      "<class 'int'>\n",
      "2\n",
      "4\n"
     ]
    }
   ],
   "source": [
    "import decimal\n",
    "from decimal import Decimal\n",
    "val=2\n",
    "print(type(val))\n",
    "a=Decimal(val)\n",
    "print(a)\n",
    "b=a*Decimal(val)\n",
    "print(b)"
   ]
  },
  {
   "cell_type": "markdown",
   "id": "bd9dd698-ec5b-451a-95df-7966de16266b",
   "metadata": {},
   "source": [
    "6. Can Decimal objects and floating-point values be combined easily?\n",
    "\n"
   ]
  },
  {
   "cell_type": "markdown",
   "id": "58b11da3-fed2-4b84-91e3-76b64d59f926",
   "metadata": {},
   "source": [
    "Arthmetic operator like Adding,Subtracting or multiplying a Decimal object by a floating-point value is \n",
    "generates an error.To do these operations,the floating points has to be converted to a Decimal object-for \n",
    "example ,converting from a floating-point value and then rounding.Else,arthmetic operations between the two \n",
    "types cause runtime errors."
   ]
  },
  {
   "cell_type": "code",
   "execution_count": 9,
   "id": "709cb15f-2908-4067-a47e-1fb4a8052e1d",
   "metadata": {},
   "outputs": [
    {
     "name": "stdout",
     "output_type": "stream",
     "text": [
      "Multiplication:  0.060000\n"
     ]
    },
    {
     "ename": "TypeError",
     "evalue": "unsupported operand type(s) for *: 'decimal.Decimal' and 'float'",
     "output_type": "error",
     "traceback": [
      "\u001b[0;31m---------------------------------------------------------------------------\u001b[0m",
      "\u001b[0;31mTypeError\u001b[0m                                 Traceback (most recent call last)",
      "Input \u001b[0;32mIn [9]\u001b[0m, in \u001b[0;36m<cell line: 6>\u001b[0;34m()\u001b[0m\n\u001b[1;32m      4\u001b[0m b\u001b[38;5;241m=\u001b[39mDecimal(val)\n\u001b[1;32m      5\u001b[0m \u001b[38;5;28mprint\u001b[39m(\u001b[38;5;124m\"\u001b[39m\u001b[38;5;124mMultiplication: \u001b[39m\u001b[38;5;124m\"\u001b[39m,Decimal(\u001b[38;5;124m\"\u001b[39m\u001b[38;5;124m0.2\u001b[39m\u001b[38;5;124m\"\u001b[39m)\u001b[38;5;241m*\u001b[39mb) \u001b[38;5;66;03m#Multiplying a decimal object with value converted to decimal\u001b[39;00m\n\u001b[0;32m----> 6\u001b[0m \u001b[38;5;28mprint\u001b[39m(\u001b[43mDecimal\u001b[49m\u001b[43m(\u001b[49m\u001b[38;5;124;43m\"\u001b[39;49m\u001b[38;5;124;43m0.2\u001b[39;49m\u001b[38;5;124;43m\"\u001b[39;49m\u001b[43m)\u001b[49m\u001b[38;5;241;43m*\u001b[39;49m\u001b[43mval\u001b[49m)\n",
      "\u001b[0;31mTypeError\u001b[0m: unsupported operand type(s) for *: 'decimal.Decimal' and 'float'"
     ]
    }
   ],
   "source": [
    "import decimal\n",
    "from decimal import Decimal\n",
    "val=0.3\n",
    "b=Decimal(val)\n",
    "print(\"Multiplication: \",Decimal(\"0.2\")*b) #Multiplying a decimal object with value converted to decimal\n",
    "print(Decimal(\"0.2\")*val) #Error when Decimal object is multiplied by a float"
   ]
  },
  {
   "cell_type": "markdown",
   "id": "911ee380-a177-4a8d-a131-ca6af133e536",
   "metadata": {},
   "source": [
    "7. Using the Fraction class but not the Decimal class, give an example of a quantity that can be\n",
    "expressed with absolute precision.\n",
    "\n"
   ]
  },
  {
   "cell_type": "code",
   "execution_count": 10,
   "id": "9763bf84-5528-4a69-943c-26b63e3c252c",
   "metadata": {},
   "outputs": [
    {
     "name": "stdout",
     "output_type": "stream",
     "text": [
      "1/2\n"
     ]
    }
   ],
   "source": [
    "#Example \n",
    "from fractions import Fraction\n",
    "val=0.5\n",
    "fr=Fraction(val)\n",
    "print(fr)"
   ]
  },
  {
   "cell_type": "markdown",
   "id": "a3b1eebf-7b8e-4fdc-9325-bdbc6bf30804",
   "metadata": {},
   "source": [
    "8. Describe a quantity that can be accurately expressed by the Decimal or Fraction classes but not by\n",
    "a floating-point value.\n",
    "\n"
   ]
  },
  {
   "cell_type": "code",
   "execution_count": 11,
   "id": "414377fc-8019-4391-808c-862cffb06624",
   "metadata": {},
   "outputs": [
    {
     "name": "stdout",
     "output_type": "stream",
     "text": [
      "decimal= 0.01\n",
      "float value = 0.010000000000000002\n"
     ]
    }
   ],
   "source": [
    "d=Decimal(\"0.1\")*Decimal(\"0.1\")\n",
    "print(\"decimal=\",d)\n",
    "frac=Fraction(\"1/10\")*Fraction(\"1/10\")\n",
    "f1=0.1*0.1\n",
    "print(\"float value =\",f1)"
   ]
  },
  {
   "cell_type": "markdown",
   "id": "177e926d-def1-4d1a-976b-523c7a4c2486",
   "metadata": {},
   "source": [
    "Q9.Consider the following two fraction objects: Fraction(1, 2) and Fraction(1, 2). (5, 10). Is the internal\n",
    "state of these two objects the same? Why do you think that is?\n",
    "\n"
   ]
  },
  {
   "cell_type": "code",
   "execution_count": 12,
   "id": "cd72bcd9-06d7-4146-b12d-10206c31fc7c",
   "metadata": {},
   "outputs": [
    {
     "name": "stdout",
     "output_type": "stream",
     "text": [
      "1/2\n",
      "1/2\n",
      "Fraction (1,2) and Fraction(5,10) are equal\n"
     ]
    }
   ],
   "source": [
    "from fractions import Fraction\n",
    "frac1=Fraction(1,2)\n",
    "print(frac1)\n",
    "frac2=Fraction(5,10)\n",
    "print(frac2)\n",
    "if (frac1==frac2):\n",
    "    print(\"Fraction (1,2) and Fraction(5,10) are equal\")\n",
    "# The internal state of both are same as Fraction(5,10) is reduced to simplest form.\n",
    "# Hence 1/2 is printed in both the cases.\n"
   ]
  },
  {
   "cell_type": "markdown",
   "id": "e5175784-609a-4afc-8bd0-eafbf6f0b208",
   "metadata": {},
   "source": [
    "Q10. How do the Fraction class and the integer type (int) relate to each other? Containment or\n",
    "inheritance?"
   ]
  },
  {
   "cell_type": "markdown",
   "id": "58d5b671-d6b6-4776-9473-5d1126925d4a",
   "metadata": {},
   "source": [
    "Fraction class and integer type(int) are related in form of a container.\n",
    "It contains two ints, one the numerator and the other the denominator.\n"
   ]
  },
  {
   "cell_type": "code",
   "execution_count": 2,
   "id": "ce2d8bf8-2362-4b9c-9641-81970951496f",
   "metadata": {},
   "outputs": [
    {
     "name": "stdout",
     "output_type": "stream",
     "text": [
      "numerator is  1 <class 'int'>\n",
      "denominator is 2 <class 'int'>\n"
     ]
    }
   ],
   "source": [
    "from fractions import Fraction\n",
    "frac=Fraction(1,2)\n",
    "print(\"numerator is \",frac.numerator,type(frac.numerator))\n",
    "print(\"denominator is\",frac.denominator,type(frac.numerator))"
   ]
  },
  {
   "cell_type": "code",
   "execution_count": null,
   "id": "460ec331-34c8-4e5f-acd4-f4e701482acc",
   "metadata": {},
   "outputs": [],
   "source": []
  }
 ],
 "metadata": {
  "kernelspec": {
   "display_name": "Python 3 (ipykernel)",
   "language": "python",
   "name": "python3"
  },
  "language_info": {
   "codemirror_mode": {
    "name": "ipython",
    "version": 3
   },
   "file_extension": ".py",
   "mimetype": "text/x-python",
   "name": "python",
   "nbconvert_exporter": "python",
   "pygments_lexer": "ipython3",
   "version": "3.9.12"
  }
 },
 "nbformat": 4,
 "nbformat_minor": 5
}
