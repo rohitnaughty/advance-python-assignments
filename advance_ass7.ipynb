{
 "cells": [
  {
   "cell_type": "markdown",
   "id": "83d92c98-96f0-4ed9-b916-d9e5acf7538b",
   "metadata": {},
   "source": [
    "Q1. What is the purpose of the try statement?\n",
    "\n"
   ]
  },
  {
   "cell_type": "markdown",
   "id": "ddd21293-deec-4ddd-92a2-3e2e7263e825",
   "metadata": {},
   "source": [
    "Try statement is used to trigger exception.If code in try block cause some run time error, then try will throw an exception.Exception is caught by except block"
   ]
  },
  {
   "cell_type": "markdown",
   "id": "42921048-e8e3-4224-8188-d595926ed0ab",
   "metadata": {},
   "source": [
    "Q2. What are the two most popular try statement variations?\n"
   ]
  },
  {
   "cell_type": "markdown",
   "id": "d4783937-ee73-470c-af3c-4c1a6d0987af",
   "metadata": {},
   "source": [
    "IOError -It occurs on errors like a file fails to open. ImportError -If a python module can't be loaded or located.\n",
    "KeyboardInterupt : When an unreqired key is pressed by user ValueError : when build-in  function receives a wrong \n",
    "argument EOFError: if End-Of-File is hit without reading any data\n",
    "\n",
    "How try() works?\n",
    "\n",
    "First,try clause is executed i.e the code between try and except clause. If there is no exception,then only try \n",
    "clause will run,except clause is finshed .If any exception occured,try clause will be skipped and except clause will\n",
    "run. If any exception occurs,but the except clause within the code doesn't handle it, it is passed on to the outer try\n",
    "statements. If the exception left unhandled, then the execution stops.A try statement can have more than one expect\n",
    "clause.\n"
   ]
  },
  {
   "cell_type": "markdown",
   "id": "235b8174-21e3-4988-94cb-2fc8c487ae7e",
   "metadata": {},
   "source": [
    "\n",
    "Q3. What is the purpose of the raise statement?\n",
    "\n"
   ]
  },
  {
   "cell_type": "markdown",
   "id": "ffa132f3-9d15-4256-b540-72bb68ac85e1",
   "metadata": {},
   "source": [
    "raise statement is used to raise an exception, You define what knind of error to raise."
   ]
  },
  {
   "cell_type": "markdown",
   "id": "bf329e7f-9c6f-44ee-a927-bf48477cbe57",
   "metadata": {},
   "source": [
    "Q4. What does the assert statement do, and what other statement is it like?\n",
    "\n"
   ]
  },
  {
   "cell_type": "markdown",
   "id": "eab8854f-5ef5-4ed3-986e-1672b19cafc7",
   "metadata": {},
   "source": [
    "The assert statement lets you test if a condition in your code returrns True, if not the program will raise an \n",
    "AssertionError. It is like raise statement, Where we can create our custom exceptions.\n"
   ]
  },
  {
   "cell_type": "code",
   "execution_count": 2,
   "id": "00430930-4b05-4517-bca2-9b0926d2d8df",
   "metadata": {},
   "outputs": [
    {
     "ename": "AssertionError",
     "evalue": "number should be grater than 0",
     "output_type": "error",
     "traceback": [
      "\u001b[0;31m---------------------------------------------------------------------------\u001b[0m",
      "\u001b[0;31mAssertionError\u001b[0m                            Traceback (most recent call last)",
      "Input \u001b[0;32mIn [2]\u001b[0m, in \u001b[0;36m<cell line: 2>\u001b[0;34m()\u001b[0m\n\u001b[1;32m      1\u001b[0m x\u001b[38;5;241m=\u001b[39m\u001b[38;5;241m0\u001b[39m\n\u001b[0;32m----> 2\u001b[0m \u001b[38;5;28;01massert\u001b[39;00m x \u001b[38;5;241m>\u001b[39m \u001b[38;5;241m0\u001b[39m ,\u001b[38;5;124m\"\u001b[39m\u001b[38;5;124mnumber should be grater than 0\u001b[39m\u001b[38;5;124m\"\u001b[39m\n\u001b[1;32m      3\u001b[0m \u001b[38;5;28mprint\u001b[39m(\u001b[38;5;124m\"\u001b[39m\u001b[38;5;124meven\u001b[39m\u001b[38;5;124m\"\u001b[39m)\n",
      "\u001b[0;31mAssertionError\u001b[0m: number should be grater than 0"
     ]
    }
   ],
   "source": [
    "x=0\n",
    "assert x > 0 ,\"number should be grater than 0\"\n",
    "print(\"even\")"
   ]
  },
  {
   "cell_type": "markdown",
   "id": "9792c487-4c27-421d-b8aa-320f32ec9b70",
   "metadata": {},
   "source": [
    "Q5. What is the purpose of the with/as argument, and what other statement is it like?"
   ]
  },
  {
   "cell_type": "markdown",
   "id": "3ee32f3e-e4ca-45d9-8239-f356f06e7bfb",
   "metadata": {},
   "source": [
    "with sttement in python is used in exception handling to make the code cleaner and much readable. It simplifies the \n",
    "management of common resources like file streams.The with statement itself ensure proper acquisition and release\n",
    "of resources.This allows common try...except...finally usage patterns to be encapsulated for convenient reuse.\n",
    "\n",
    "When \"as\" is used after \"with\", it will reassign the returned  object to a new identifier."
   ]
  },
  {
   "cell_type": "code",
   "execution_count": null,
   "id": "81b56bcd-fd6e-4d2a-8ec5-53ca413d10ae",
   "metadata": {},
   "outputs": [],
   "source": []
  }
 ],
 "metadata": {
  "kernelspec": {
   "display_name": "Python 3 (ipykernel)",
   "language": "python",
   "name": "python3"
  },
  "language_info": {
   "codemirror_mode": {
    "name": "ipython",
    "version": 3
   },
   "file_extension": ".py",
   "mimetype": "text/x-python",
   "name": "python",
   "nbconvert_exporter": "python",
   "pygments_lexer": "ipython3",
   "version": "3.9.12"
  }
 },
 "nbformat": 4,
 "nbformat_minor": 5
}
