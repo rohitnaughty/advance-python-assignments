{
 "cells": [
  {
   "cell_type": "markdown",
   "id": "31f5100c-252d-4ded-a721-d6cf12ceb56f",
   "metadata": {},
   "source": [
    "Q1. What is the concept of a metaclass?\n",
    "\n"
   ]
  },
  {
   "cell_type": "markdown",
   "id": "240e05f7-bd7e-4c1f-a836-143cde32d0c6",
   "metadata": {},
   "source": [
    "In python everything is associated with type. In other programming languages, int ,str, array are data type.But, in \n",
    "python, they are objects of the class int, str, list,dict.We create user defined type by creating a class and then \n",
    "object of the class.\n",
    "\n",
    "A class is also an object, and just like ant other object it's a instance of something called Metaclass.A special \n",
    "class type creates these class object. The type class is default metaclass which  is reponsible for making classes. "
   ]
  },
  {
   "cell_type": "markdown",
   "id": "c040db57-b7b2-4dad-920b-f9193a4dbedb",
   "metadata": {},
   "source": [
    "Q2. What is the best way to declare a class&#39;s metaclass?\n",
    "\n"
   ]
  },
  {
   "cell_type": "markdown",
   "id": "e27fcd22-3a56-47c4-b281-1290d8fbd352",
   "metadata": {},
   "source": [
    "When defining a class and no metaclass is defined the default type metaclass will be used.If a metaclass is given and \n",
    "it is not an instance of type(),then it is used directly as the metaclass. "
   ]
  },
  {
   "cell_type": "code",
   "execution_count": 1,
   "id": "3c963103-e1f7-469b-90a4-80426f5c0598",
   "metadata": {},
   "outputs": [
    {
     "name": "stdout",
     "output_type": "stream",
     "text": [
      "<class 'type'>\n",
      "<class '__main__.A'>\n",
      "<class '__main__.A'>\n"
     ]
    }
   ],
   "source": [
    "class A(type):\n",
    "    pass\n",
    "class B(metaclass=A): #for class B,class A is a metaclass\n",
    "    pass \n",
    "class C(B):\n",
    "    pass\n",
    "print(type(A))\n",
    "print(type(B))\n",
    "print(type(C))\n",
    "     "
   ]
  },
  {
   "cell_type": "markdown",
   "id": "1d60e135-e7ed-49b4-9420-861078adf1b3",
   "metadata": {},
   "source": [
    "Q3. How do class decorators overlap with metaclasses for handling classes?\n",
    "\n"
   ]
  },
  {
   "cell_type": "markdown",
   "id": "c9b11a0e-745b-4d44-833d-9ee7aca1c77c",
   "metadata": {},
   "source": [
    "Both decorators and metaclass have some common things. When we want to apply some common functionality to attributes of \n",
    "the class instance, both can be used.There are some problems which can be solves by decorators as well as by \n",
    "metaclasses.But there are a few problems that can only be solved by metaclasses.Use of metaclass affects its children\n",
    "while the decorator affects only the current class."
   ]
  },
  {
   "cell_type": "markdown",
   "id": "e0a3a6f0-7095-43fb-86e4-c29322f9579f",
   "metadata": {},
   "source": [
    "Q4. How do class decorators overlap with metaclasses for handling instances?\n"
   ]
  },
  {
   "cell_type": "markdown",
   "id": "a46ebec6-412c-45b8-a5af-1c434a158202",
   "metadata": {},
   "source": [
    "Anything you can do with a class decorator, you can of course do with a custom metaclass (just apply the functionality of the \"decorator function\", i.e., the one that takes a class object and modifies it, in the course of the metaclass's __new__ or __init__ that make the class object!)."
   ]
  },
  {
   "cell_type": "code",
   "execution_count": null,
   "id": "5f22db2a-430a-4b50-8718-00b78168bed8",
   "metadata": {},
   "outputs": [],
   "source": []
  }
 ],
 "metadata": {
  "kernelspec": {
   "display_name": "Python 3 (ipykernel)",
   "language": "python",
   "name": "python3"
  },
  "language_info": {
   "codemirror_mode": {
    "name": "ipython",
    "version": 3
   },
   "file_extension": ".py",
   "mimetype": "text/x-python",
   "name": "python",
   "nbconvert_exporter": "python",
   "pygments_lexer": "ipython3",
   "version": "3.9.12"
  }
 },
 "nbformat": 4,
 "nbformat_minor": 5
}
