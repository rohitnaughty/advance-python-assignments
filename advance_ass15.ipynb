{
 "cells": [
  {
   "cell_type": "markdown",
   "id": "73ffcea0-02a8-406b-aa40-2f828aa438b1",
   "metadata": {},
   "source": [
    "1. What are the new features added in Python 3.8 version?\n"
   ]
  },
  {
   "cell_type": "markdown",
   "id": "fd6807ea-2298-46ca-aaed-732ffaca5985",
   "metadata": {},
   "source": [
    "Positional-only parameters(/)\n",
    "\n",
    "There is a new function parameter syntax “/” which indicates that some function parameters must be specified positionally and can’t be used as keyword arguments.\n",
    "\n",
    "Assignment Expressions(:=)\n",
    "\n",
    "This operator is used to assign and return a value in the same expression. This removes the need for initializing the variable upfront.\n",
    "\n",
    "f-strings now support “=”\n",
    "\n",
    "This string formatting mechanism is known as Literal String Interpolation or more commonly as F-strings (because of the leading f character preceding the string literal). The idea behind f-strings is to make string interpolation simpler. Python 3.8 allows the use of the above-discussed assignment operator and equal sign (=) inside the f-strings.\n",
    "\n",
    "reversed() works with a dictionary Unlike Python 3.7, now in Python 3.8, the built-in method “reversed()” can be used for accessing the elements in the reverse order of insertion.\n",
    "\n",
    "No parentheses for return and yield statements ‘yield’ and ‘return’ statements do not require parentheses to return multiple values.\n",
    "\n",
    "pow() function In the three-argument form of pow(), when the exponent is -1, it calculates the modular multiplicative inverse of the given value.\n",
    "\n",
    "Syntax Warning If you miss a comma in your code such as a = [(1, 2) (3, 4)], instead of throwing TypeError, it displays an informative Syntax warning."
   ]
  },
  {
   "cell_type": "markdown",
   "id": "748df5ed-c696-4b12-95ba-8718410af404",
   "metadata": {},
   "source": [
    "2. What is monkey patching in Python?\n"
   ]
  },
  {
   "cell_type": "markdown",
   "id": "fb2a0a6c-a45f-449b-b9fc-3e41a7327758",
   "metadata": {},
   "source": [
    "In python,monkey patching refers to run-time modifications of a class or module.In python,we can actually change \n",
    "the behaviour of code at run-time."
   ]
  },
  {
   "cell_type": "markdown",
   "id": "18be33a4-f3a3-498b-a121-002096e0861d",
   "metadata": {},
   "source": [
    "3. What is the difference between a shallow copy and deep copy?\n"
   ]
  },
  {
   "cell_type": "markdown",
   "id": "16d13761-ee6b-406e-bac9-745e6cfca6f3",
   "metadata": {},
   "source": [
    "In python,When we use= operator,it doesnot create a copy of the object.It just creates the variable,which shares a \n",
    "reference to the same memory location.This is called as shallow copy.In deep copy,new object is a copy of old object\n",
    "and it is created at different memory address and any changes made to new object won't be reflected in old object."
   ]
  },
  {
   "cell_type": "markdown",
   "id": "bcac3f12-84d1-4727-ae0b-5b07811608e9",
   "metadata": {},
   "source": [
    "4. What is the maximum possible length of an identifier?\n"
   ]
  },
  {
   "cell_type": "markdown",
   "id": "d5529edd-51dd-4c87-b676-ad1cc26db870",
   "metadata": {},
   "source": [
    "The maximum possible length of an identifier is not defined in python.It can be any number."
   ]
  },
  {
   "cell_type": "markdown",
   "id": "a3ea15e6-6d9b-4dbd-b952-53f4b60ed8af",
   "metadata": {},
   "source": [
    "5. What is generator comprehension?"
   ]
  },
  {
   "cell_type": "code",
   "execution_count": 2,
   "id": "f1af1028-f1f7-436d-845d-58ba26ec3f76",
   "metadata": {},
   "outputs": [
    {
     "name": "stdout",
     "output_type": "stream",
     "text": [
      "<generator object <genexpr> at 0x7f11aa9696d0>\n",
      "0\n",
      "1\n",
      "2\n",
      "3\n",
      "4\n"
     ]
    }
   ],
   "source": [
    "#It is like a list comprehension but it returns an interator.We use () instead of[] to achieve this.\n",
    "\n",
    "numbers=(i for i in range(5))\n",
    "print(numbers)\n",
    "print(next(numbers))\n",
    "print(next(numbers))\n",
    "print(next(numbers))\n",
    "print(next(numbers))\n",
    "print(next(numbers))"
   ]
  },
  {
   "cell_type": "code",
   "execution_count": null,
   "id": "2a727e98-cee1-4473-b127-c525dea19602",
   "metadata": {},
   "outputs": [],
   "source": []
  }
 ],
 "metadata": {
  "kernelspec": {
   "display_name": "Python 3 (ipykernel)",
   "language": "python",
   "name": "python3"
  },
  "language_info": {
   "codemirror_mode": {
    "name": "ipython",
    "version": 3
   },
   "file_extension": ".py",
   "mimetype": "text/x-python",
   "name": "python",
   "nbconvert_exporter": "python",
   "pygments_lexer": "ipython3",
   "version": "3.9.12"
  }
 },
 "nbformat": 4,
 "nbformat_minor": 5
}
